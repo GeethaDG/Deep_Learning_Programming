{
  "nbformat": 4,
  "nbformat_minor": 0,
  "metadata": {
    "colab": {
      "name": "Assignment10.ipynb",
      "provenance": [],
      "collapsed_sections": []
    },
    "kernelspec": {
      "name": "python3",
      "display_name": "Python 3"
    },
    "language_info": {
      "name": "python"
    },
    "accelerator": "GPU"
  },
  "cells": [
    {
      "cell_type": "markdown",
      "source": [
        "# Assignment 10: Adversarial Examples & Training\n",
        "\n",
        "By Joy Rakshit(231681), Geetha Doddapaneni Gopinath (229498), Sri Chandana Hudukula Ram Kumar (231616)"
      ],
      "metadata": {
        "id": "tCK8a2RpFb5g"
      }
    },
    {
      "cell_type": "code",
      "execution_count": 24,
      "metadata": {
        "id": "mf9tNEECBwpz"
      },
      "outputs": [],
      "source": [
        "import tensorflow as tf\n",
        "import numpy as np\n",
        "from matplotlib import pyplot as plt"
      ]
    },
    {
      "cell_type": "code",
      "source": [
        "(train_imgs, train_lbls), (test_imgs, test_lbls) = tf.keras.datasets.cifar10.load_data()\n",
        "train_imgs = train_imgs.reshape((-1, 32, 32, 3)).astype(np.float32) / 255.\n",
        "test_imgs = test_imgs.reshape((-1, 32, 32, 3)).astype(np.float32) / 255.\n",
        "train_lbls = train_lbls.astype(np.int32)[:,0]\n",
        "test_lbls = test_lbls.astype(np.int32)[:,0]\n",
        "\n",
        "train_data = tf.data.Dataset.from_tensor_slices((train_imgs, train_lbls))\n",
        "train_data = train_data.shuffle(60000).batch(256).repeat()\n",
        "\n",
        "test_data = tf.data.Dataset.from_tensor_slices((test_imgs, test_lbls)).batch(256)"
      ],
      "metadata": {
        "id": "m-1_jfiOCYWe"
      },
      "execution_count": 38,
      "outputs": []
    },
    {
      "cell_type": "code",
      "source": [
        "# build model\n",
        "tfkl = tf.keras.layers\n",
        "\n",
        "\n",
        "regularization_factor = 0.00001\n",
        "\n",
        "\n",
        "def conv_bn_relu(inp, n_filters):\n",
        "    # use regularizers for weight penalties etc\n",
        "    # note that the factor needs to be passed here already\n",
        "    conv = tfkl.Conv2D(n_filters, 3, padding=\"same\", use_bias=False, kernel_regularizer=tf.keras.regularizers.L2(regularization_factor))(inp)\n",
        "    # batchnorm is as simple as this.\n",
        "    # note: convolution has set use_bias=False since it's superfluous if followed\n",
        "    # by batchnorm directly\n",
        "    bn = tfkl.BatchNormalization()(conv)\n",
        "    # spatial dropout is probably a better choice for conv2d\n",
        "    # NOTE dropout & batch norm don't harmonize well, so probably better to\n",
        "    # choose one of the two\n",
        "    return tfkl.SpatialDropout2D(0.2)(tfkl.ReLU()(bn))\n",
        "\n",
        "def build_model():\n",
        "    inp = tf.keras.Input((32, 32, 3))\n",
        "\n",
        "    # best way to do data augmentation: use keras layers\n",
        "    flipped = tfkl.RandomFlip(mode=\"horizontal\")(inp)\n",
        "    cropped = tfkl.RandomCrop(30, 30)(flipped)\n",
        "\n",
        "    l1 = conv_bn_relu(cropped, 32)\n",
        "    #l1b = conv_bn_relu(l1, 32)\n",
        "    l1_p = tfkl.MaxPool2D(2, padding=\"same\")(l1)\n",
        "\n",
        "    l2 = conv_bn_relu(l1_p, 64)\n",
        "    #l2b = conv_bn_relu(l2, 64)\n",
        "    l2_p = tfkl.MaxPool2D(2, padding=\"same\")(l2)\n",
        "\n",
        "    l3 = conv_bn_relu(l2_p, 128)\n",
        "    #l3b = conv_bn_relu(l3, 128)\n",
        "    l3_p = tfkl.MaxPool2D(2, padding=\"same\")(l3)\n",
        "\n",
        "    flat = tfkl.Flatten()(l3_p)\n",
        "    logits = tfkl.Dense(10, kernel_regularizer=tf.keras.regularizers.L2(regularization_factor))(flat)\n",
        "\n",
        "    model = tf.keras.Model(inp, logits)\n",
        "    return model\n",
        "\n",
        "\n",
        "model = build_model()\n",
        "train_steps = 10000\n",
        "\n",
        "# example learning rate schedule\n",
        "schedule = tf.keras.optimizers.schedules.ExponentialDecay( 0.001, 1, 0.9997)   #(initial_learning_rate, decay_steps, decay_rate)\n",
        "optimizer = tf.optimizers.Adam(schedule)\n",
        "\n",
        "loss_fn = tf.losses.SparseCategoricalCrossentropy(from_logits=True)\n"
      ],
      "metadata": {
        "id": "GRrcWwlNCevs"
      },
      "execution_count": 39,
      "outputs": []
    },
    {
      "cell_type": "code",
      "source": [
        "x = tf.range(train_steps)\n",
        "y = schedule(x)\n",
        "plt.plot(x, y)"
      ],
      "metadata": {
        "id": "HC4azUCHV1VT",
        "colab": {
          "base_uri": "https://localhost:8080/",
          "height": 282
        },
        "outputId": "3b37c7c5-25e1-4d2f-fa0e-97887b0b7516"
      },
      "execution_count": 40,
      "outputs": [
        {
          "output_type": "execute_result",
          "data": {
            "text/plain": [
              "[<matplotlib.lines.Line2D at 0x7f92062db7d0>]"
            ]
          },
          "metadata": {},
          "execution_count": 40
        },
        {
          "output_type": "display_data",
          "data": {
            "image/png": "[encoded data removed]",
            "text/plain": [
              "<Figure size 432x288 with 1 Axes>"
            ]
          },
          "metadata": {
            "needs_background": "light"
          }
        }
      ]
    },
    {
      "cell_type": "code",
      "source": [
        "@tf.function\n",
        "def train_step(images, labels):\n",
        "    with tf.GradientTape() as tape:\n",
        "        # very important to have training=True!!!\n",
        "        # in this model, this is relevant for dropout, batchnorm, augmentation\n",
        "        out = model(images, training=True)\n",
        "        cross_entropy = loss_fn(labels, out)\n",
        "\n",
        "        # we actually need to add the regularization here!\n",
        "        # using model.fit, this would be taken care off\n",
        "        l2_penalty = tf.add_n(model.losses) #add all the input tensors elementwise\n",
        "        loss = cross_entropy + l2_penalty\n",
        "\n",
        "    gradients = tape.gradient(loss, model.trainable_variables)\n",
        "    optimizer.apply_gradients(zip(gradients, model.trainable_variables))\n",
        "\n",
        "    return cross_entropy\n",
        "\n",
        "\n",
        "def get_test_accuracy():\n",
        "    accuracy_metric = tf.keras.metrics.SparseCategoricalAccuracy()\n",
        "    for images, labels in test_data:\n",
        "        # not training -> set to False. this is also the default if you don't pass it\n",
        "        accuracy_metric(labels, model(images, training=False))\n",
        "\n",
        "    return accuracy_metric.result().numpy()"
      ],
      "metadata": {
        "id": "MAyT4TMsDcfp"
      },
      "execution_count": 41,
      "outputs": []
    },
    {
      "cell_type": "code",
      "source": [
        "for step, (image_batch, label_batch) in enumerate(train_data):\n",
        "    if step > train_steps:\n",
        "        break\n",
        "\n",
        "    current_loss = train_step(image_batch, label_batch)\n",
        "\n",
        "    if not step % 500:\n",
        "        print(step, current_loss.numpy())\n",
        "        test_accuracy = get_test_accuracy()\n",
        "        print(\"Test acc\", test_accuracy)\n",
        "        print()\n"
      ],
      "metadata": {
        "id": "3H079wbND7eV",
        "colab": {
          "base_uri": "https://localhost:8080/"
        },
        "outputId": "dbb599f7-424a-4540-afaf-d9c7ad014e32"
      },
      "execution_count": 6,
      "outputs": [
        {
          "output_type": "stream",
          "name": "stdout",
          "text": [
            "0 3.388418\n",
            "Test acc 0.1282\n",
            "\n",
            "500 1.268153\n",
            "Test acc 0.4623\n",
            "\n",
            "1000 1.0278075\n",
            "Test acc 0.6589\n",
            "\n",
            "1500 1.0590714\n",
            "Test acc 0.6151\n",
            "\n",
            "2000 0.93814224\n",
            "Test acc 0.6705\n",
            "\n",
            "2500 0.8741601\n",
            "Test acc 0.6889\n",
            "\n",
            "3000 0.8672758\n",
            "Test acc 0.7232\n",
            "\n",
            "3500 0.74271476\n",
            "Test acc 0.738\n",
            "\n",
            "4000 0.73724675\n",
            "Test acc 0.7334\n",
            "\n",
            "4500 0.7905084\n",
            "Test acc 0.7433\n",
            "\n",
            "5000 0.80514866\n",
            "Test acc 0.7555\n",
            "\n",
            "5500 0.7373755\n",
            "Test acc 0.7523\n",
            "\n",
            "6000 0.7489584\n",
            "Test acc 0.7569\n",
            "\n",
            "6500 0.88751805\n",
            "Test acc 0.7642\n",
            "\n",
            "7000 0.67391115\n",
            "Test acc 0.7627\n",
            "\n",
            "7500 0.70834494\n",
            "Test acc 0.7652\n",
            "\n",
            "8000 0.5673875\n",
            "Test acc 0.7683\n",
            "\n",
            "8500 0.77963316\n",
            "Test acc 0.7717\n",
            "\n",
            "9000 0.6990833\n",
            "Test acc 0.7706\n",
            "\n",
            "9500 0.76395893\n",
            "Test acc 0.772\n",
            "\n",
            "10000 0.69850624\n",
            "Test acc 0.7713\n",
            "\n"
          ]
        }
      ]
    },
    {
      "cell_type": "code",
      "source": [
        "# basic adversarial example setup\n",
        "# compute gradient of loss with respect to inputs\n",
        "def run_model(images, labels):\n",
        "    with tf.GradientTape() as tape:\n",
        "        tape.watch(images)\n",
        "        out = model(images, training=False)\n",
        "        cross_entropy = loss_fn(labels, out)\n",
        "    gradients = tape.gradient(cross_entropy, images)\n",
        "    return gradients, cross_entropy, out"
      ],
      "metadata": {
        "id": "bowJ_YPnm5Bi"
      },
      "execution_count": 29,
      "outputs": []
    },
    {
      "cell_type": "code",
      "source": [
        "gradient_images, loss, predictions = run_model(image_batch, label_batch)\n",
        "print(\"Loss on inputs:\", loss.numpy())\n",
        "print(\"Prediction on 1st input:\", np.argmax(predictions[0].numpy()))\n",
        "print(\"Correct label:\", label_batch[0].numpy())\n",
        "adversarial_images = tf.clip_by_value(image_batch + 0.02*tf.math.sign(gradient_images), 0., 1.)"
      ],
      "metadata": {
        "id": "C4h_E0pYo63a",
        "colab": {
          "base_uri": "https://localhost:8080/"
        },
        "outputId": "22890fd0-b9f9-47e6-ff3d-6d4f2b703a22"
      },
      "execution_count": 30,
      "outputs": [
        {
          "output_type": "stream",
          "name": "stdout",
          "text": [
            "Loss on inputs: 2.2981727\n",
            "Prediction on 1st input: 0\n",
            "Correct label: 3\n"
          ]
        }
      ]
    },
    {
      "cell_type": "code",
      "source": [
        "_, loss, predictions = run_model(adversarial_images, label_batch)\n",
        "print(\"Loss on adversarial examples:\", loss.numpy())\n",
        "print(\"Prediction on 1st adversarial input:\", np.argmax(predictions[0].numpy()))\n",
        "print(\"Groundtruth:\", label_batch[0].numpy())"
      ],
      "metadata": {
        "id": "OO_ZCBtoqVWN",
        "colab": {
          "base_uri": "https://localhost:8080/"
        },
        "outputId": "851cec51-add0-41fd-a6f1-8c674a97969b"
      },
      "execution_count": 31,
      "outputs": [
        {
          "output_type": "stream",
          "name": "stdout",
          "text": [
            "Loss on adversarial examples: 2.3494706\n",
            "Prediction on 1st adversarial input: 0\n",
            "Groundtruth: 3\n"
          ]
        }
      ]
    },
    {
      "cell_type": "code",
      "source": [
        "plt.imshow(image_batch[0])"
      ],
      "metadata": {
        "id": "a5M-dUaFpHbW",
        "colab": {
          "base_uri": "https://localhost:8080/",
          "height": 283
        },
        "outputId": "2c5156f2-eaf6-435a-ac57-a5065765ff11"
      },
      "execution_count": 32,
      "outputs": [
        {
          "output_type": "execute_result",
          "data": {
            "text/plain": [
              "<matplotlib.image.AxesImage at 0x7f9278f3a750>"
            ]
          },
          "metadata": {},
          "execution_count": 32
        },
        {
          "output_type": "display_data",
          "data": {
            "image/png": "[encoded data removed]",
            "text/plain": [
              "<Figure size 432x288 with 1 Axes>"
            ]
          },
          "metadata": {
            "needs_background": "light"
          }
        }
      ]
    },
    {
      "cell_type": "code",
      "source": [
        "plt.imshow(adversarial_images[0])"
      ],
      "metadata": {
        "id": "MbW3VP-IrrVo",
        "colab": {
          "base_uri": "https://localhost:8080/",
          "height": 283
        },
        "outputId": "431cbe14-ddbd-4ff8-92e6-a64bfde406a2"
      },
      "execution_count": 33,
      "outputs": [
        {
          "output_type": "execute_result",
          "data": {
            "text/plain": [
              "<matplotlib.image.AxesImage at 0x7f920688b1d0>"
            ]
          },
          "metadata": {},
          "execution_count": 33
        },
        {
          "output_type": "display_data",
          "data": {
            "image/png": "[encoded data removed]",
            "text/plain": [
              "<Figure size 432x288 with 1 Axes>"
            ]
          },
          "metadata": {
            "needs_background": "light"
          }
        }
      ]
    },
    {
      "cell_type": "markdown",
      "source": [
        "Creating adversarial dataset "
      ],
      "metadata": {
        "id": "EQFTq8e1pep2"
      }
    },
    {
      "cell_type": "code",
      "source": [
        "# compute gradient of loss with respect to inputs\n",
        "def create_adversarial(images, labels):\n",
        "    with tf.GradientTape() as tape:\n",
        "        tape.watch(images)\n",
        "        out = model(images, training=False)\n",
        "        cross_entropy = loss_fn(labels, out)\n",
        "    gradients = tape.gradient(cross_entropy, images)\n",
        "    return gradients, cross_entropy, out\n",
        "\n",
        "\n",
        "###########################################################################\n",
        "\n",
        "model = build_model()\n",
        "\n",
        "# example learning rate schedule\n",
        "schedule = tf.keras.optimizers.schedules.ExponentialDecay( 0.001, 1, 0.9997)   \n",
        "optimizer = tf.optimizers.Adam(schedule)\n",
        "\n",
        "loss_fn = tf.losses.SparseCategoricalCrossentropy(from_logits=True)\n",
        "\n",
        "train_imgs_adv = tf.data.Dataset.from_tensor_slices((train_imgs, train_lbls)).shuffle(50000).batch(256)\n",
        "\n",
        "# gradient sign method. you can fiddle with epsilon. the larger, the more dramatic the effect.\n",
        "# but if it's too large, it doesn't really qualify as an adversarial example anymore!\n",
        "# clip to between 0 and 1 since adding the gradient might take the images out of that range.\n",
        "adversarial_images = 0\n",
        "adversarial_label = 0\n",
        "for step, (image_batch, label_batch) in enumerate(train_imgs_adv):\n",
        "    gradient_images, current_loss, predictions = create_adversarial(image_batch, label_batch)\n",
        "\n",
        "    if step==0:\n",
        "      adversarial_images = tf.clip_by_value(image_batch + 0.02*tf.math.sign(gradient_images), 0., 1.)\n",
        "      adversarial_label = label_batch\n",
        "    else:\n",
        "      adversarial_images = tf.concat([adversarial_images,tf.clip_by_value(image_batch + 0.02*tf.math.sign(gradient_images), 0., 1.)],axis=0)\n",
        "      adversarial_label = tf.concat([adversarial_label, label_batch],axis=0)\n",
        "\n",
        "    if not step % 50:\n",
        "        print(step, current_loss.numpy())\n",
        "        test_accuracy = get_test_accuracy()\n",
        "        print(\"Test acc\", test_accuracy)\n",
        "        print()\n",
        "    \n",
        "\n"
      ],
      "metadata": {
        "id": "4BFpBHYQr2AO",
        "colab": {
          "base_uri": "https://localhost:8080/"
        },
        "outputId": "c6ad71d3-f4dd-441e-835d-425e2400de94"
      },
      "execution_count": 34,
      "outputs": [
        {
          "output_type": "stream",
          "name": "stdout",
          "text": [
            "0 2.3027892\n",
            "Test acc 0.1204\n",
            "\n",
            "50 2.3031807\n",
            "Test acc 0.1204\n",
            "\n",
            "100 2.3027492\n",
            "Test acc 0.1204\n",
            "\n",
            "150 2.3081808\n",
            "Test acc 0.1204\n",
            "\n"
          ]
        }
      ]
    },
    {
      "cell_type": "markdown",
      "source": [
        "Training with adversarial + original dataset"
      ],
      "metadata": {
        "id": "gRaGet-nBlua"
      }
    },
    {
      "cell_type": "code",
      "source": [
        "train_data2 = tf.data.Dataset.from_tensor_slices((tf.concat([adversarial_images[:25000],train_imgs[:25000]],axis=0),\n",
        "                                               tf.concat([adversarial_label[:25000],train_lbls[:25000]],axis=0))).shuffle(50000).batch(256).repeat()\n",
        "\n",
        "model = build_model()\n",
        "# example learning rate schedule\n",
        "schedule = tf.keras.optimizers.schedules.ExponentialDecay( 0.001, 1, 0.9997)   #(initial_learning_rate, decay_steps, decay_rate)\n",
        "optimizer = tf.optimizers.Adam(schedule)\n",
        "\n",
        "loss_fn = tf.losses.SparseCategoricalCrossentropy(from_logits=True)\n",
        "\n",
        "train_steps = 30000\n",
        "\n",
        "for step, (image_batch, label_batch) in enumerate(train_data2):\n",
        "    if step > train_steps:\n",
        "        break\n",
        "\n",
        "    current_loss = train_step(image_batch, label_batch)\n",
        "\n",
        "    if not step % 1500:\n",
        "        print(step, current_loss.numpy())\n",
        "        test_accuracy = get_test_accuracy()\n",
        "        print(\"Test acc\", test_accuracy)\n",
        "        print()\n"
      ],
      "metadata": {
        "colab": {
          "base_uri": "https://localhost:8080/"
        },
        "id": "IbqiUlbGwrM9",
        "outputId": "81f2cb06-dc0e-42b8-9fff-546d5f256ce0"
      },
      "execution_count": 42,
      "outputs": [
        {
          "output_type": "stream",
          "name": "stdout",
          "text": [
            "0 3.6507277\n",
            "Test acc 0.0952\n",
            "\n",
            "1500 1.0469744\n",
            "Test acc 0.6488\n",
            "\n",
            "3000 0.72916883\n",
            "Test acc 0.7054\n",
            "\n",
            "4500 0.76471287\n",
            "Test acc 0.7283\n",
            "\n",
            "6000 0.6997071\n",
            "Test acc 0.7304\n",
            "\n",
            "7500 0.6383682\n",
            "Test acc 0.745\n",
            "\n",
            "9000 0.5951761\n",
            "Test acc 0.754\n",
            "\n",
            "10500 0.7708583\n",
            "Test acc 0.7502\n",
            "\n",
            "12000 0.67225504\n",
            "Test acc 0.7518\n",
            "\n",
            "13500 0.6163271\n",
            "Test acc 0.7555\n",
            "\n",
            "15000 0.6437532\n",
            "Test acc 0.7548\n",
            "\n",
            "16500 0.6619885\n",
            "Test acc 0.7558\n",
            "\n",
            "18000 0.60826397\n",
            "Test acc 0.7545\n",
            "\n",
            "19500 0.640708\n",
            "Test acc 0.7556\n",
            "\n",
            "21000 0.5088281\n",
            "Test acc 0.7557\n",
            "\n",
            "22500 0.73590744\n",
            "Test acc 0.7553\n",
            "\n",
            "24000 0.62441355\n",
            "Test acc 0.7554\n",
            "\n",
            "25500 0.6891043\n",
            "Test acc 0.7548\n",
            "\n",
            "27000 0.61655515\n",
            "Test acc 0.7549\n",
            "\n",
            "28500 0.6105192\n",
            "Test acc 0.7549\n",
            "\n",
            "30000 0.65881556\n",
            "Test acc 0.7549\n",
            "\n"
          ]
        }
      ]
    },
    {
      "cell_type": "markdown",
      "source": [
        "Test adversarial data on newly trained model"
      ],
      "metadata": {
        "id": "tSs-4JoWKn7S"
      }
    },
    {
      "cell_type": "code",
      "source": [
        "for step, (image_batch, label_batch) in enumerate(test_data):\n",
        "    if step > 0:\n",
        "        break\n",
        "    gradient_images, loss, predictions = run_model(image_batch, label_batch)\n",
        "    print(\"Loss on inputs:\", loss.numpy())\n",
        "    print(\"Prediction on 1st input:\", np.argmax(predictions[0].numpy()))\n",
        "    print(\"Correct label:\", label_batch[0].numpy())\n",
        "    adversarial_images_new = tf.clip_by_value(image_batch + 0.02*tf.math.sign(gradient_images), 0., 1.)"
      ],
      "metadata": {
        "colab": {
          "base_uri": "https://localhost:8080/"
        },
        "id": "1DgEhXq6KwP1",
        "outputId": "64c7da55-5e05-45b5-9ba1-459fe97a7b64"
      },
      "execution_count": 43,
      "outputs": [
        {
          "output_type": "stream",
          "name": "stdout",
          "text": [
            "Loss on inputs: 0.74528134\n",
            "Prediction on 1st input: 3\n",
            "Correct label: 3\n"
          ]
        }
      ]
    },
    {
      "cell_type": "code",
      "source": [
        "_, loss, predictions = run_model(image_batch, label_batch)\n",
        "print(\"Loss on adversarial examples:\", loss.numpy())\n",
        "print(\"Prediction on 1st adversarial input:\", np.argmax(predictions[1].numpy()))\n",
        "print(\"Groundtruth:\", label_batch[1].numpy())\n",
        "print()\n",
        "print(\"Prediction on 1st adversarial input:\", np.argmax(predictions[2].numpy()))\n",
        "print(\"Groundtruth:\", label_batch[2].numpy())"
      ],
      "metadata": {
        "colab": {
          "base_uri": "https://localhost:8080/"
        },
        "id": "Bb1bMBnhLLKL",
        "outputId": "284768b6-8745-4467-81ca-26cf4b8298eb"
      },
      "execution_count": 44,
      "outputs": [
        {
          "output_type": "stream",
          "name": "stdout",
          "text": [
            "Loss on adversarial examples: 0.66503465\n",
            "Prediction on 1st adversarial input: 0\n",
            "Groundtruth: 0\n",
            "\n",
            "Prediction on 1st adversarial input: 8\n",
            "Groundtruth: 0\n"
          ]
        }
      ]
    }
  ]
}