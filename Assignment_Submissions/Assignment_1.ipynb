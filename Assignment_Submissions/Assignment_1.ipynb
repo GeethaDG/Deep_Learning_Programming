{
  "nbformat": 4,
  "nbformat_minor": 0,
  "metadata": {
    "colab": {
      "name": "Assignment1.ipynb",
      "provenance": [],
      "collapsed_sections": []
    },
    "kernelspec": {
      "name": "python3",
      "display_name": "Python 3"
    },
    "language_info": {
      "name": "python"
    }
  },
  "cells": [
    {
      "cell_type": "markdown",
      "metadata": {
        "id": "D59GThlC5L57"
      },
      "source": [
        "# Assignment 1: Let the Tensors Flow\n",
        "By Joy Rakshit(231681), Geetha Doddapaneni Gopinath (229498), Sri Chandana Hudukula Ram Kumar (231616)\n",
        "\n",
        "Reference: http://blog.ai.ovgu.de/posts/jens/2019/002_tf20_basic_mnist/index.html"
      ]
    },
    {
      "cell_type": "markdown",
      "metadata": {
        "id": "0VTqMFOgy3FL"
      },
      "source": [
        "Setting working Directory"
      ]
    },
    {
      "cell_type": "code",
      "metadata": {
        "colab": {
          "base_uri": "https://localhost:8080/"
        },
        "id": "LSaXlEcmAUed",
        "outputId": "531bf4fa-57bb-439f-a0ff-2dac24dcb4cf"
      },
      "source": [
        "from google.colab import drive; drive.mount('/content/drive')\n",
        "import os\n"
      ],
      "execution_count": 123,
      "outputs": [
        {
          "output_type": "stream",
          "name": "stdout",
          "text": [
            "Drive already mounted at /content/drive; to attempt to forcibly remount, call drive.mount(\"/content/drive\", force_remount=True).\n"
          ]
        }
      ]
    },
    {
      "cell_type": "code",
      "metadata": {
        "id": "7jHB7oSL8Id-",
        "colab": {
          "base_uri": "https://localhost:8080/"
        },
        "outputId": "86b5ef4b-f405-421d-bd5e-cd75ea58de9f"
      },
      "source": [
        "from google.colab import drive\n",
        "drive.mount('/content/drive')"
      ],
      "execution_count": 124,
      "outputs": [
        {
          "output_type": "stream",
          "name": "stdout",
          "text": [
            "Drive already mounted at /content/drive; to attempt to forcibly remount, call drive.mount(\"/content/drive\", force_remount=True).\n"
          ]
        }
      ]
    },
    {
      "cell_type": "code",
      "metadata": {
        "id": "0yrnFM9d8ACo",
        "colab": {
          "base_uri": "https://localhost:8080/",
          "height": 35
        },
        "outputId": "c9803d95-0efc-470b-d772-b81f217e846e"
      },
      "source": [
        "os.chdir(\"/content/drive/My Drive/IDL/\")\n",
        "os.getcwd()\n"
      ],
      "execution_count": 125,
      "outputs": [
        {
          "output_type": "execute_result",
          "data": {
            "application/vnd.google.colaboratory.intrinsic+json": {
              "type": "string"
            },
            "text/plain": [
              "'/content/drive/My Drive/IDL'"
            ]
          },
          "metadata": {},
          "execution_count": 125
        }
      ]
    },
    {
      "cell_type": "markdown",
      "metadata": {
        "id": "fiFJS5p6y_lA"
      },
      "source": [
        "Libraries"
      ]
    },
    {
      "cell_type": "code",
      "metadata": {
        "id": "j_TsBLvg6L1z"
      },
      "source": [
        "import tensorflow as tf\n",
        "import numpy as np\n",
        "import matplotlib.pyplot as plt\n",
        "from datasets import MNISTDataset"
      ],
      "execution_count": 126,
      "outputs": []
    },
    {
      "cell_type": "markdown",
      "metadata": {
        "id": "i4V9ldRCzJir"
      },
      "source": [
        "# Loading data and sanity checking"
      ]
    },
    {
      "cell_type": "code",
      "metadata": {
        "colab": {
          "base_uri": "https://localhost:8080/",
          "height": 282
        },
        "id": "PZxusZdr6A5Q",
        "outputId": "eb5de9de-6c23-4ad6-f24a-01ffff41e2a8"
      },
      "source": [
        "mnist = tf.keras.datasets.mnist\n",
        "(train_images, train_labels), (test_images, test_labels) = mnist.load_data()\n",
        "\n",
        "plt.imshow(train_images[0], cmap=\"Greys_r\")\n",
        "\n",
        "data = MNISTDataset(train_images.reshape([-1, 784]), train_labels, \n",
        "                    test_images.reshape([-1, 784]), test_labels,\n",
        "                    batch_size=128)\n",
        "train_images.shape"
      ],
      "execution_count": 127,
      "outputs": [
        {
          "output_type": "execute_result",
          "data": {
            "text/plain": [
              "(60000, 28, 28)"
            ]
          },
          "metadata": {},
          "execution_count": 127
        },
        {
          "output_type": "display_data",
          "data": {
            "image/png": "[encoded data removed]",
            "text/plain": [
              "<Figure size 432x288 with 1 Axes>"
            ]
          },
          "metadata": {
            "needs_background": "light"
          }
        }
      ]
    },
    {
      "cell_type": "markdown",
      "metadata": {
        "id": "h_uLDHOtRfkS"
      },
      "source": [
        "# ***Train Function***"
      ]
    },
    {
      "cell_type": "code",
      "metadata": {
        "id": "4cDdvad0ML9P"
      },
      "source": [
        "def mlp_model(train_steps,learning_rate,actn_func,hidden_size):\n",
        "\n",
        "  #Keeping the record of Loss and Accuracy after 100 iterations\n",
        "  train_loss=[]\n",
        "  train_acc=[]\n",
        "\n",
        "  #Input layer initialisation\n",
        "  W = tf.Variable(tf.random.uniform([784, hidden_size],minval=-0.1, maxval=0.1, dtype=tf.dtypes.float32)) \n",
        "  b = tf.Variable(np.ones(hidden_size, dtype=np.float32))\n",
        "\n",
        "  # 1 hidden layer initialisation\n",
        "  W1 = tf.Variable(tf.random.uniform([hidden_size, 10],minval=-0.1, maxval=0.1, dtype=tf.dtypes.float32))\n",
        "  b1 = tf.Variable(np.zeros(10, dtype=np.float32))\n",
        "\n",
        "  print(\"-----------------TRAINING PARAMETERS-----------------\")\n",
        "  print(\"Training_Steps: {} Learning Rate: {} Activation_Function:{} Hidden_Layer_Size:{}\".format(train_steps,learning_rate,actn_func,hidden_size))\n",
        "  print(\"-----------------TRAINING-----------------\")\n",
        "  for step in range(train_steps):\n",
        "    #loading dataset\n",
        "    img_batch, lbl_batch = data.next_batch()\n",
        "    with tf.GradientTape(persistent=True) as tape:\n",
        "      if(actn_func == 'Relu'):\n",
        "        h1=tf.nn.relu(tf.matmul(img_batch, W)+b)\n",
        "      elif(actn_func == 'Sigmoid'):\n",
        "        h1=tf.nn.sigmoid(tf.matmul(img_batch, W)+b)\n",
        "      elif(actn_func == 'Tanh'):\n",
        "        h1=tf.nn.tanh(tf.matmul(img_batch, W)+b)\n",
        "      elif(actn_func == 'Leaky Relu'):\n",
        "        h1=tf.nn.leaky_relu(tf.matmul(img_batch, W)+b)\n",
        "      logits = tf.matmul(h1, W1) + b1\n",
        "      xent = tf.reduce_mean(tf.nn.sparse_softmax_cross_entropy_with_logits(logits=logits, labels=lbl_batch))\n",
        "    np.append(train_loss,xent)\n",
        "\n",
        "    #gradients\n",
        "    grads = tape.gradient(xent, [W, b, W1, b1])\n",
        "\n",
        "    #updating weights and bias\n",
        "    W.assign_sub(learning_rate * grads[0])\n",
        "    b.assign_sub(learning_rate * grads[1])\n",
        "    W1.assign_sub(learning_rate * grads[2])\n",
        "    b1.assign_sub(learning_rate * grads[3])\n",
        "\n",
        "    if not step % 100:\n",
        "        preds = tf.argmax(logits, axis=1, output_type=tf.int32)\n",
        "        acc = tf.reduce_mean(tf.cast(tf.equal(preds, lbl_batch),\n",
        "                             tf.float32))\n",
        "        train_acc.append(acc.numpy())\n",
        "        train_loss.append(xent.numpy())\n",
        "        print(\"Loss: {} Accuracy: {}\".format(xent, acc))\n",
        "  return W, b, W1, b1,train_loss,train_acc"
      ],
      "execution_count": 159,
      "outputs": []
    },
    {
      "cell_type": "markdown",
      "metadata": {
        "id": "BggwV-vHavXX"
      },
      "source": [
        "# ***Test Function***"
      ]
    },
    {
      "cell_type": "code",
      "metadata": {
        "id": "Rr7BzMlWT0d7"
      },
      "source": [
        "def predict(W, b, W1, b1,actn_func):\n",
        "  print(\"-----------------TESTING-----------------\")\n",
        "  input_h1 = tf.matmul(data.test_data, W) + b\n",
        "  if(actn_func == 'Relu'):\n",
        "    output_h1 = tf.nn.relu(input_h1)\n",
        "  elif(actn_func == 'Sigmoid'):\n",
        "    output_h1=tf.nn.sigmoid(input_h1)\n",
        "  elif(actn_func == 'Tanh'):\n",
        "    output_h1=tf.nn.tanh(input_h1)\n",
        "  elif(actn_func == 'Leaky Relu'):\n",
        "    output_h1=tf.nn.leaky_relu(input_h1)\n",
        "  \n",
        "  #Prediction\n",
        "  test_preds = tf.argmax(tf.matmul(output_h1, W1) + b1, axis=1, output_type=tf.int32)\n",
        "\n",
        "  #Calculating accuracy\n",
        "  acc = tf.reduce_mean(tf.cast(tf.equal(test_preds, data.test_labels), tf.float32))\n",
        "  print('Accuracy of the model on test data set is:{}'.format(acc))\n",
        "  return"
      ],
      "execution_count": 158,
      "outputs": []
    },
    {
      "cell_type": "markdown",
      "metadata": {
        "id": "GECtipmKY7q-"
      },
      "source": [
        "# ***Training and Testing Model - 1***\n",
        "\n",
        "*   **Activation_Func = Relu**\n",
        "*   **Num_HiddenLayer = 1**\n",
        "*   **HiddenLayer_size = 60**\n",
        "\n",
        "\n"
      ]
    },
    {
      "cell_type": "code",
      "metadata": {
        "colab": {
          "base_uri": "https://localhost:8080/"
        },
        "id": "Z2tUwsLeP6Z2",
        "outputId": "a0c1406c-37f0-49e7-be19-227cee48edf2"
      },
      "source": [
        "W_60_Relu, b_60_Relu, W1_60_Relu, b1_60_Relu,loss_relu_h60,acc_relu_h60 = mlp_model(1000,0.1,'Relu',60)\n",
        "predict(W_60_Relu, b_60_Relu, W1_60_Relu, b1_60_Relu,'Relu')"
      ],
      "execution_count": 142,
      "outputs": [
        {
          "output_type": "stream",
          "name": "stdout",
          "text": [
            "-----------------TRAINING PARAMETERS-----------------\n",
            "Training_Steps: 1000 Learning Rate: 0.1 Activation_Function:Relu Hidden_Layer_Size:60\n",
            "-----------------TRAINING-----------------\n",
            "Loss: 2.379683256149292 Accuracy: 0.0859375\n",
            "Loss: 0.5642431974411011 Accuracy: 0.859375\n",
            "Loss: 0.4698163866996765 Accuracy: 0.8828125\n",
            "Loss: 0.37531280517578125 Accuracy: 0.8671875\n",
            "Loss: 0.49713340401649475 Accuracy: 0.8515625\n",
            "Starting new epoch...\n",
            "Loss: 0.31497934460639954 Accuracy: 0.9140625\n",
            "Loss: 0.29201483726501465 Accuracy: 0.921875\n",
            "Loss: 0.2574215233325958 Accuracy: 0.921875\n",
            "Loss: 0.4284428358078003 Accuracy: 0.875\n",
            "Loss: 0.17459341883659363 Accuracy: 0.953125\n",
            "Starting new epoch...\n",
            "-----------------TESTING-----------------\n",
            "Accuracy of the model on test data set is:0.9258999824523926\n"
          ]
        }
      ]
    },
    {
      "cell_type": "markdown",
      "metadata": {
        "id": "ai46oLTraK2m"
      },
      "source": [
        "# ***Training and Testing Model - 2***\n",
        "\n",
        "*   **Activation_Func = Leaky Relu**\n",
        "*   **Num_HiddenLayer = 1**\n",
        "*   **HiddenLayer_size = 60**\n"
      ]
    },
    {
      "cell_type": "code",
      "metadata": {
        "colab": {
          "base_uri": "https://localhost:8080/"
        },
        "id": "xmozyxuxVYab",
        "outputId": "74bb7cf7-4186-4188-cb29-1f910bdf88e6"
      },
      "source": [
        "W_60_LeakyRelu, b_60_LeakyRelu, W1_60_LeakyRelu, b1_60_LeakyRelu,loss_LeakyRelu_h60,acc_LeakyRelu_h60 = mlp_model(1000,0.1,'Leaky Relu',60)\n",
        "predict(W_60_LeakyRelu, b_60_LeakyRelu, W1_60_LeakyRelu, b1_60_LeakyRelu,'Leaky Relu')"
      ],
      "execution_count": 144,
      "outputs": [
        {
          "output_type": "stream",
          "name": "stdout",
          "text": [
            "-----------------TRAINING PARAMETERS-----------------\n",
            "Training_Steps: 1000 Learning Rate: 0.1 Activation_Function:Leaky Relu Hidden_Layer_Size:60\n",
            "-----------------TRAINING-----------------\n",
            "Loss: 2.584127426147461 Accuracy: 0.0703125\n",
            "Loss: 0.5927895903587341 Accuracy: 0.84375\n",
            "Loss: 0.35949572920799255 Accuracy: 0.8828125\n",
            "Loss: 0.23830005526542664 Accuracy: 0.9375\n",
            "Starting new epoch...\n",
            "Loss: 0.24406366050243378 Accuracy: 0.9140625\n",
            "Loss: 0.2932090163230896 Accuracy: 0.890625\n",
            "Loss: 0.29456424713134766 Accuracy: 0.8984375\n",
            "Loss: 0.3053479790687561 Accuracy: 0.921875\n",
            "Starting new epoch...\n",
            "Loss: 0.3209484815597534 Accuracy: 0.8828125\n",
            "Loss: 0.2764284014701843 Accuracy: 0.9375\n",
            "-----------------TESTING-----------------\n",
            "Accuracy of the model on test data set is:0.9190000295639038\n"
          ]
        }
      ]
    },
    {
      "cell_type": "markdown",
      "metadata": {
        "id": "lGQUx_Oca6uJ"
      },
      "source": [
        "# ***Training and Testing Model - 3***\n",
        "\n",
        "*   **Activation_Func = Sigmoid**\n",
        "*   **Num_HiddenLayer = 1**\n",
        "*   **HiddenLayer_size = 60**"
      ]
    },
    {
      "cell_type": "code",
      "metadata": {
        "colab": {
          "base_uri": "https://localhost:8080/"
        },
        "id": "1XMWUUUNWy9c",
        "outputId": "618c60c3-3571-4272-c946-203fbf040925"
      },
      "source": [
        "W_60_sig, b_60_sig, W1_60_sig, b1_60_sig,loss_sig_h60,acc_sig_h60 = mlp_model(1000,0.1,'Sigmoid',60)\n",
        "predict(W_60_sig, b_60_sig, W1_60_sig, b1_60_sig,'Sigmoid')"
      ],
      "execution_count": 145,
      "outputs": [
        {
          "output_type": "stream",
          "name": "stdout",
          "text": [
            "-----------------TRAINING PARAMETERS-----------------\n",
            "Training_Steps: 1000 Learning Rate: 0.1 Activation_Function:Sigmoid Hidden_Layer_Size:60\n",
            "-----------------TRAINING-----------------\n",
            "Loss: 2.4051353931427 Accuracy: 0.0625\n",
            "Loss: 2.0972366333007812 Accuracy: 0.421875\n",
            "Loss: 1.5518386363983154 Accuracy: 0.640625\n",
            "Starting new epoch...\n",
            "Loss: 1.0642727613449097 Accuracy: 0.7890625\n",
            "Loss: 0.743638277053833 Accuracy: 0.8671875\n",
            "Loss: 0.74001544713974 Accuracy: 0.84375\n",
            "Loss: 0.6328163146972656 Accuracy: 0.859375\n",
            "Loss: 0.4873691201210022 Accuracy: 0.90625\n",
            "Starting new epoch...\n",
            "Loss: 0.5801582932472229 Accuracy: 0.84375\n",
            "Loss: 0.5027984380722046 Accuracy: 0.890625\n",
            "-----------------TESTING-----------------\n",
            "Accuracy of the model on test data set is:0.8924000263214111\n"
          ]
        }
      ]
    },
    {
      "cell_type": "markdown",
      "metadata": {
        "id": "YI9EZszLbAtk"
      },
      "source": [
        "# ***Training and Testing Model - 4***\n",
        "\n",
        "*   **Activation_Func = Hyperbolic Tangent**\n",
        "*   **Num_HiddenLayer = 1**\n",
        "*   **HiddenLayer_size = 60**"
      ]
    },
    {
      "cell_type": "code",
      "metadata": {
        "colab": {
          "base_uri": "https://localhost:8080/"
        },
        "id": "2MwNL_HmYE0N",
        "outputId": "0dfc80ed-8e33-4fba-e4fa-13746fc0c659"
      },
      "source": [
        "W_60_tanh, b_60_tanh, W1_60_tanh, b1_60_tanh,loss_tanh_h60,acc_tanh_h60 = mlp_model(1000,0.1,'Tanh',60)\n",
        "predict(W_60_tanh, b_60_tanh, W1_60_tanh, b1_60_tanh,'Tanh')\n"
      ],
      "execution_count": 146,
      "outputs": [
        {
          "output_type": "stream",
          "name": "stdout",
          "text": [
            "-----------------TRAINING PARAMETERS-----------------\n",
            "Training_Steps: 1000 Learning Rate: 0.1 Activation_Function:Tanh Hidden_Layer_Size:60\n",
            "-----------------TRAINING-----------------\n",
            "Loss: 2.328233480453491 Accuracy: 0.140625\n",
            "Loss: 0.7956946492195129 Accuracy: 0.8828125\n",
            "Starting new epoch...\n",
            "Loss: 0.4679895043373108 Accuracy: 0.8828125\n",
            "Loss: 0.4393378794193268 Accuracy: 0.8984375\n",
            "Loss: 0.30038344860076904 Accuracy: 0.9375\n",
            "Loss: 0.3116796016693115 Accuracy: 0.9453125\n",
            "Loss: 0.17264053225517273 Accuracy: 0.9765625\n",
            "Starting new epoch...\n",
            "Loss: 0.3275287449359894 Accuracy: 0.921875\n",
            "Loss: 0.23742598295211792 Accuracy: 0.921875\n",
            "Loss: 0.2601463198661804 Accuracy: 0.9375\n",
            "-----------------TESTING-----------------\n",
            "Accuracy of the model on test data set is:0.9273999929428101\n"
          ]
        }
      ]
    },
    {
      "cell_type": "markdown",
      "metadata": {
        "id": "IWgeJAZjbcAG"
      },
      "source": [
        "# ***Training and Testing Model - 5***\n",
        "\n",
        "*   **Activation_Func = Relu**\n",
        "*   **Num_HiddenLayer = 1**\n",
        "*   **HiddenLayer_size = 600**"
      ]
    },
    {
      "cell_type": "code",
      "metadata": {
        "colab": {
          "base_uri": "https://localhost:8080/"
        },
        "id": "kWpx04Vmbeo8",
        "outputId": "5f51bf69-59b7-4582-fc79-74a4c1a2f542"
      },
      "source": [
        "W_600_Relu, b_600_Relu, W1_600_Relu, b1_600_Relu,loss_relu_h600,acc_relu_h600 = mlp_model(1000,0.1,'Relu',600)\n",
        "predict(W_600_Relu, b_600_Relu, W1_600_Relu, b1_600_Relu,'Relu')"
      ],
      "execution_count": 147,
      "outputs": [
        {
          "output_type": "stream",
          "name": "stdout",
          "text": [
            "-----------------TRAINING PARAMETERS-----------------\n",
            "Training_Steps: 1000 Learning Rate: 0.1 Activation_Function:Relu Hidden_Layer_Size:600\n",
            "-----------------TRAINING-----------------\n",
            "Loss: 3.278587579727173 Accuracy: 0.125\n",
            "Loss: 0.4227595627307892 Accuracy: 0.875\n",
            "Starting new epoch...\n",
            "Loss: 0.2127390205860138 Accuracy: 0.9609375\n",
            "Loss: 0.3365931212902069 Accuracy: 0.90625\n",
            "Loss: 0.4031410813331604 Accuracy: 0.8828125\n",
            "Loss: 0.3920553922653198 Accuracy: 0.8984375\n",
            "Starting new epoch...\n",
            "Loss: 0.336899071931839 Accuracy: 0.90625\n",
            "Loss: 0.18745359778404236 Accuracy: 0.953125\n",
            "Loss: 0.3297693729400635 Accuracy: 0.8984375\n",
            "Loss: 0.20811143517494202 Accuracy: 0.953125\n",
            "-----------------TESTING-----------------\n",
            "Accuracy of the model on test data set is:0.9344000220298767\n"
          ]
        }
      ]
    },
    {
      "cell_type": "markdown",
      "metadata": {
        "id": "tbZJtENCbzyo"
      },
      "source": [
        "# ***Training and Testing Model - 6***\n",
        "\n",
        "*   **Activation_Func = Leaky Relu**\n",
        "*   **Num_HiddenLayer = 1**\n",
        "*   **HiddenLayer_size = 600**"
      ]
    },
    {
      "cell_type": "code",
      "metadata": {
        "colab": {
          "base_uri": "https://localhost:8080/"
        },
        "id": "nvhLUHErcCnZ",
        "outputId": "2f8c1e1e-1147-4398-aa1f-faab24a3078b"
      },
      "source": [
        "W_600_LeakyRelu, b_600_LeakyRelu, W1_600_LeakyRelu, b1_600_LeakyRelu,loss_LeakyRelu_h600,acc_LeakyRelu_h600 = mlp_model(1000,0.1,'Leaky Relu',600)\n",
        "predict(W_600_LeakyRelu, b_600_LeakyRelu, W1_600_LeakyRelu, b1_600_LeakyRelu,'Leaky Relu')"
      ],
      "execution_count": 148,
      "outputs": [
        {
          "output_type": "stream",
          "name": "stdout",
          "text": [
            "-----------------TRAINING PARAMETERS-----------------\n",
            "Training_Steps: 1000 Learning Rate: 0.1 Activation_Function:Leaky Relu Hidden_Layer_Size:600\n",
            "-----------------TRAINING-----------------\n",
            "Loss: 3.1056594848632812 Accuracy: 0.078125\n",
            "Starting new epoch...\n",
            "Loss: 0.37267494201660156 Accuracy: 0.90625\n",
            "Loss: 0.2631278932094574 Accuracy: 0.9296875\n",
            "Loss: 0.3123517334461212 Accuracy: 0.9140625\n",
            "Loss: 0.3077695965766907 Accuracy: 0.90625\n",
            "Loss: 0.3193509578704834 Accuracy: 0.8984375\n",
            "Starting new epoch...\n",
            "Loss: 0.20128139853477478 Accuracy: 0.9296875\n",
            "Loss: 0.19883222877979279 Accuracy: 0.9453125\n",
            "Loss: 0.13397054374217987 Accuracy: 0.9765625\n",
            "Loss: 0.2073759138584137 Accuracy: 0.9375\n",
            "-----------------TESTING-----------------\n",
            "Accuracy of the model on test data set is:0.9239000082015991\n"
          ]
        }
      ]
    },
    {
      "cell_type": "markdown",
      "metadata": {
        "id": "gQnjUCUScOHg"
      },
      "source": [
        "# ***Training and Testing Model - 7***\n",
        "\n",
        "*   **Activation_Func = Sigmoid**\n",
        "*   **Num_HiddenLayer = 1**\n",
        "*   **HiddenLayer_size = 600**"
      ]
    },
    {
      "cell_type": "code",
      "metadata": {
        "colab": {
          "base_uri": "https://localhost:8080/"
        },
        "id": "SAtIhVRQcOh0",
        "outputId": "937c6200-0cbe-466b-cde5-120d604387b0"
      },
      "source": [
        "W_600_sig, b_600_sig, W1_600_sig, b1_600_sig,loss_sig_h600,acc_sig_h600 = mlp_model(1000,0.1,'Sigmoid',600)\n",
        "predict(W_600_sig, b_600_sig, W1_600_sig, b1_600_sig,'Sigmoid')"
      ],
      "execution_count": 149,
      "outputs": [
        {
          "output_type": "stream",
          "name": "stdout",
          "text": [
            "-----------------TRAINING PARAMETERS-----------------\n",
            "Training_Steps: 1000 Learning Rate: 0.1 Activation_Function:Sigmoid Hidden_Layer_Size:600\n",
            "-----------------TRAINING-----------------\n",
            "Loss: 2.8944849967956543 Accuracy: 0.125\n",
            "Starting new epoch...\n",
            "Loss: 1.5081380605697632 Accuracy: 0.46875\n",
            "Loss: 0.7827008962631226 Accuracy: 0.7109375\n",
            "Loss: 0.6820861101150513 Accuracy: 0.8125\n",
            "Loss: 0.36060449481010437 Accuracy: 0.9375\n",
            "Starting new epoch...\n",
            "Loss: 0.5300347805023193 Accuracy: 0.8671875\n",
            "Loss: 0.39971834421157837 Accuracy: 0.8984375\n",
            "Loss: 0.4640289545059204 Accuracy: 0.8828125\n",
            "Loss: 0.3199804723262787 Accuracy: 0.953125\n",
            "Loss: 0.3904772996902466 Accuracy: 0.90625\n",
            "Starting new epoch...\n",
            "-----------------TESTING-----------------\n",
            "Accuracy of the model on test data set is:0.9004999995231628\n"
          ]
        }
      ]
    },
    {
      "cell_type": "markdown",
      "metadata": {
        "id": "aBL_-PF8cPDF"
      },
      "source": [
        "# ***Training and Testing Model - 8***\n",
        "\n",
        "*   **Activation_Func = Hyperbolic Tangent**\n",
        "*   **Num_HiddenLayer = 1**\n",
        "*   **HiddenLayer_size = 600**"
      ]
    },
    {
      "cell_type": "code",
      "metadata": {
        "colab": {
          "base_uri": "https://localhost:8080/"
        },
        "id": "WyddYp22cPVC",
        "outputId": "35cdf73b-003d-4684-e551-3a403e534f7a"
      },
      "source": [
        "W_600_tanh, b_600_tanh, W1_600_tanh, b1_600_tanh,loss_tanh_h600,acc_tanh_h600 = mlp_model(1000,0.1,'Tanh',600)\n",
        "predict(W_600_tanh, b_600_tanh, W1_600_tanh, b1_600_tanh,'Tanh')"
      ],
      "execution_count": 150,
      "outputs": [
        {
          "output_type": "stream",
          "name": "stdout",
          "text": [
            "-----------------TRAINING PARAMETERS-----------------\n",
            "Training_Steps: 1000 Learning Rate: 0.1 Activation_Function:Tanh Hidden_Layer_Size:600\n",
            "-----------------TRAINING-----------------\n",
            "Loss: 3.0290145874023438 Accuracy: 0.1171875\n",
            "Loss: 0.384482204914093 Accuracy: 0.9140625\n",
            "Loss: 0.4482609033584595 Accuracy: 0.8828125\n",
            "Loss: 0.2561706602573395 Accuracy: 0.921875\n",
            "Loss: 0.26521822810173035 Accuracy: 0.921875\n",
            "Starting new epoch...\n",
            "Loss: 0.37336260080337524 Accuracy: 0.8984375\n",
            "Loss: 0.20646457374095917 Accuracy: 0.9375\n",
            "Loss: 0.2542576789855957 Accuracy: 0.921875\n",
            "Loss: 0.20471817255020142 Accuracy: 0.9609375\n",
            "Starting new epoch...\n",
            "Loss: 0.1892164945602417 Accuracy: 0.953125\n",
            "-----------------TESTING-----------------\n",
            "Accuracy of the model on test data set is:0.9254999756813049\n"
          ]
        }
      ]
    },
    {
      "cell_type": "code",
      "metadata": {
        "colab": {
          "base_uri": "https://localhost:8080/",
          "height": 518
        },
        "id": "bFHQ-uKWgamj",
        "outputId": "ec421535-801a-406c-c238-5140d3da055e"
      },
      "source": [
        "x = list(range(1, 11))\n",
        "figures, axes = plt.subplots(nrows=2, ncols=4, figsize=(18,7))\n",
        "\n",
        "figures.tight_layout(pad=3.0)\n",
        "\n",
        "axes[0,0].plot(x,acc_relu_h60,label = \"Layer size = 60\")\n",
        "axes[0,0].plot(x,acc_relu_h600,label = \"Layer size = 600\")\n",
        "axes[0,0].set_xlabel(\"Iterations (1 unit = 100 iteratins)\")\n",
        "axes[0,0].set_ylabel(\"Accuracy\")\n",
        "axes[0,0].set_title(\"Accuracy of Relu\")\n",
        "axes[0,0].legend()\n",
        "\n",
        "\n",
        "axes[0,1].plot(x,acc_LeakyRelu_h60,label = \"Layer size = 60\")\n",
        "axes[0,1].plot(x,acc_LeakyRelu_h600,label = \"Layer size = 600\")\n",
        "axes[0,1].set_xlabel(\"Iterations (1 unit = 100 iteratins)\")\n",
        "axes[0,1].set_ylabel(\"Accuracy\")\n",
        "axes[0,1].set_title(\"Accuracy of Leaky Relu\")\n",
        "axes[0,1].legend()\n",
        "\n",
        "axes[0,2].plot(x,acc_sig_h60,label = \"Layer size = 60\")\n",
        "axes[0,2].plot(x,acc_sig_h600,label = \"Layer size = 600\")\n",
        "axes[0,2].set_xlabel(\"Iterations (1 unit = 100 iteratins)\")\n",
        "axes[0,2].set_ylabel(\"Accuracy\")\n",
        "axes[0,2].set_title(\"Accuracy of Sigmoid\")\n",
        "axes[0,2].legend()\n",
        "\n",
        "axes[0,3].plot(x,acc_tanh_h60,label = \"Layer size = 60\")\n",
        "axes[0,3].plot(x,acc_tanh_h600,label = \"Layer size = 600\")\n",
        "axes[0,3].set_xlabel(\"Iterations (1 unit = 100 iteratins)\")\n",
        "axes[0,3].set_ylabel(\"Accuracy\")\n",
        "axes[0,3].set_title(\"Accuracy of Tanh\")\n",
        "axes[0,3].legend()\n",
        "\n",
        "axes[1,0].plot(x,loss_relu_h60,label = \"Layer size = 60\")\n",
        "axes[1,0].plot(x,loss_relu_h600,label = \"Layer size = 600\")\n",
        "axes[1,0].set_xlabel(\"Iterations (1 unit = 100 iteratins)\")\n",
        "axes[1,0].set_ylabel(\"Loss\")\n",
        "axes[1,0].set_title(\"Loss curve of Relu\")\n",
        "axes[1,0].legend()\n",
        "\n",
        "axes[1,1].plot(x,loss_LeakyRelu_h60,label = \"Layer size = 60\")\n",
        "axes[1,1].plot(x,loss_LeakyRelu_h600,label = \"Layer size = 600\")\n",
        "axes[1,1].set_xlabel(\"Iterations (1 unit = 100 iteratins)\")\n",
        "axes[1,1].set_ylabel(\"Loss\")\n",
        "axes[1,1].set_title(\"Loss curve of Leajy Relu\")\n",
        "axes[1,1].legend()\n",
        "\n",
        "axes[1,2].plot(x,loss_sig_h60,label = \"Layer size = 60\")\n",
        "axes[1,2].plot(x,loss_sig_h600,label = \"Layer size = 600\")\n",
        "axes[1,2].set_xlabel(\"Iterations (1 unit = 100 iteratins)\")\n",
        "axes[1,2].set_ylabel(\"Loss\")\n",
        "axes[1,2].set_title(\"Loss curve of Sigmoid\")\n",
        "axes[1,2].legend()\n",
        "\n",
        "axes[1,3].plot(x,loss_tanh_h60,label = \"Layer size = 60\")\n",
        "axes[1,3].plot(x,loss_tanh_h600,label = \"Layer size = 600\")\n",
        "axes[1,3].set_xlabel(\"Iterations (1 unit = 100 iteratins)\")\n",
        "axes[1,3].set_ylabel(\"Loss\")\n",
        "axes[1,3].set_title(\"Loss curve of tanh\")\n",
        "axes[1,3].legend()"
      ],
      "execution_count": 154,
      "outputs": [
        {
          "output_type": "execute_result",
          "data": {
            "text/plain": [
              "<matplotlib.legend.Legend at 0x7fa275cd0f90>"
            ]
          },
          "metadata": {},
          "execution_count": 154
        },
        {
          "output_type": "display_data",
          "data": {
            "image/png": "[encoded data removed]",
            "text/plain": [
              "<Figure size 1296x504 with 8 Axes>"
            ]
          },
          "metadata": {
            "needs_background": "light"
          }
        }
      ]
    },
    {
      "cell_type": "markdown",
      "metadata": {
        "id": "FZPtluMk05qC"
      },
      "source": [
        "# ***Training and Testing Model - 0***\n",
        "\n",
        "*   **Activation_Func = Relu**\n",
        "*   **Num_HiddenLayer = 1**\n",
        "*   **HiddenLayer_size = 60**\n",
        "*   **Initialisation = zero weights and bias**"
      ]
    },
    {
      "cell_type": "code",
      "metadata": {
        "colab": {
          "base_uri": "https://localhost:8080/"
        },
        "id": "LY7r87j005qF",
        "outputId": "bfc00aa4-3153-45c8-87d4-68d81adecb5e"
      },
      "source": [
        "#W = tf.Variable(np.zeros([784, 10]).astype(np.float32))\n",
        "#b = tf.Variable(np.zeros(10, dtype=np.float32))\n",
        "#size of the layer = 60\n",
        "W = tf.Variable(np.zeros([784, 60]).astype(np.float32))\n",
        "b = tf.Variable(np.zeros(60, dtype=np.float32))\n",
        "\n",
        "# 1 hidden layer\n",
        "W1 = tf.Variable(np.zeros([60, 10]).astype(np.float32))\n",
        "b1 = tf.Variable(np.zeros([10]).astype(np.float32))\n",
        "\n",
        "#Keeping the record of Loss and Accuracy after 100 iterations\n",
        "acc_relu_h60_0=[]\n",
        "loss_relu_h60_0=[]\n",
        "\n",
        "for step in range(train_steps):\n",
        "    img_batch, lbl_batch = data.next_batch()\n",
        "    with tf.GradientTape() as tape:\n",
        "        #logits = tf.matmul(img_batch, W) + b\n",
        "        #Output of hidden layer 1\n",
        "        h1 = tf.keras.activations.relu( (tf.matmul(img_batch, W) + b) ,alpha = 0.0, max_value = None, threshold = 0)\n",
        "        #input to the output layer\n",
        "        logits = tf.matmul(h1, W1) + b1\n",
        "        xent = tf.reduce_mean(tf.nn.sparse_softmax_cross_entropy_with_logits(\n",
        "            logits=logits, labels=lbl_batch))\n",
        "        \n",
        "    grads = tape.gradient(xent, [W, b, W1, b1])\n",
        "    W.assign_sub(learning_rate * grads[0])\n",
        "    b.assign_sub(learning_rate * grads[1])\n",
        "    W1.assign_sub(learning_rate * grads[2])\n",
        "    b1.assign_sub(learning_rate * grads[3])\n",
        "    \n",
        "    if not step % 100:\n",
        "        preds = tf.argmax(logits, axis=1, output_type=tf.int32)\n",
        "        acc = tf.reduce_mean(tf.cast(tf.equal(preds, lbl_batch),\n",
        "                             tf.float32))\n",
        "        acc_relu_h60_0.append(acc.numpy())\n",
        "        loss_relu_h60_0.append(xent.numpy())\n",
        "        print(\"Loss: {} Accuracy: {}\".format(xent, acc))"
      ],
      "execution_count": 155,
      "outputs": [
        {
          "output_type": "stream",
          "name": "stdout",
          "text": [
            "Loss: 2.3025853633880615 Accuracy: 0.078125\n",
            "Loss: 2.3026814460754395 Accuracy: 0.1015625\n",
            "Loss: 2.297412157058716 Accuracy: 0.1328125\n",
            "Loss: 2.300258159637451 Accuracy: 0.1015625\n",
            "Starting new epoch...\n",
            "Loss: 2.2991342544555664 Accuracy: 0.125\n",
            "Loss: 2.303483486175537 Accuracy: 0.1015625\n",
            "Loss: 2.3021373748779297 Accuracy: 0.09375\n",
            "Loss: 2.2997889518737793 Accuracy: 0.125\n",
            "Loss: 2.301464319229126 Accuracy: 0.109375\n",
            "Starting new epoch...\n",
            "Loss: 2.2985143661499023 Accuracy: 0.1328125\n"
          ]
        }
      ]
    },
    {
      "cell_type": "code",
      "metadata": {
        "colab": {
          "base_uri": "https://localhost:8080/"
        },
        "id": "YEPPd-Cc05qJ",
        "outputId": "6481ac1d-6065-4fe3-96c7-ea76490a9e9d"
      },
      "source": [
        "#test_preds = tf.argmax(tf.matmul(data.test_data, W) + b, axis=1, output_type=tf.int32)\n",
        "input_h1 = tf.matmul(data.test_data, W) + b\n",
        "output_h1 = tf.keras.activations.relu(input_h1, alpha = 1.0, max_value = None, threshold = 0)\n",
        "test_preds = tf.argmax(tf.matmul(output_h1, W1) + b1, axis=1, output_type=tf.int32)\n",
        "\n",
        "#acc = tf.reduce_mean(tf.cast(tf.equal(test_preds, data.test_labels), tf.float32))\n",
        "acc = tf.reduce_mean(tf.cast(tf.equal(test_preds, data.test_labels), tf.float32))\n",
        "print(acc)"
      ],
      "execution_count": 156,
      "outputs": [
        {
          "output_type": "stream",
          "name": "stdout",
          "text": [
            "tf.Tensor(0.1135, shape=(), dtype=float32)\n"
          ]
        }
      ]
    },
    {
      "cell_type": "code",
      "metadata": {
        "colab": {
          "base_uri": "https://localhost:8080/",
          "height": 518
        },
        "id": "HOnH1x9605qK",
        "outputId": "ed88ae5d-9903-48df-e948-1b43afe27e11"
      },
      "source": [
        "x = list(range(1, 11))\n",
        "\n",
        "figures, axes = plt.subplots(nrows=1, ncols=2, figsize=(18,7))\n",
        "\n",
        "figures.tight_layout(pad=3.0)\n",
        "\n",
        "axes[0].plot(x,acc_relu_h60,label = \"Random weights and bias\")\n",
        "axes[0].plot(x,acc_relu_h60_0,label = \"zero weights and bias\")\n",
        "axes[0].set_xlabel(\"Iterations (1 unit = 100 iteratins)\")\n",
        "axes[0].set_ylabel(\"Accuracy\")\n",
        "axes[0].set_title(\"Accuracy of Relu\")\n",
        "axes[0].legend()\n",
        "\n",
        "axes[1].plot(x,loss_relu_h60,label = \"Random weights and bias\")\n",
        "axes[1].plot(x,loss_relu_h60_0,label = \"zero weights and bias\")\n",
        "axes[1].set_xlabel(\"Iterations (1 unit = 100 iteratins)\")\n",
        "axes[1].set_ylabel(\"Loss\")\n",
        "axes[1].set_title(\"Loss of Relu\")\n",
        "axes[1].legend()\n",
        "\n"
      ],
      "execution_count": 157,
      "outputs": [
        {
          "output_type": "execute_result",
          "data": {
            "text/plain": [
              "<matplotlib.legend.Legend at 0x7fa275375150>"
            ]
          },
          "metadata": {},
          "execution_count": 157
        },
        {
          "output_type": "display_data",
          "data": {
            "image/png": "[encoded data removed]",
            "text/plain": [
              "<Figure size 1296x504 with 2 Axes>"
            ]
          },
          "metadata": {
            "needs_background": "light"
          }
        }
      ]
    },
    {
      "cell_type": "markdown",
      "metadata": {
        "id": "1cRq-B7RmRQf"
      },
      "source": [
        "# ***Initializing variables to 0 will not work for multilayer perceptrons. You need to initialize values randomly instead (e.g. random_uniform between -0.1 and 0.1).Why do you think this is the case?***\n",
        "\n",
        "*Answer : The logic of back propagation lies in the fact that we update the weight in each iteration by multiplying the current weight by the delta determined by back propagation. When the initial weight was set to zero, any delta value will not have effect on the weights, as the weights are always zero*"
      ]
    },
    {
      "cell_type": "markdown",
      "metadata": {
        "id": "5SNKMo52opu3"
      },
      "source": [
        "# **Observations**\n",
        "\n",
        "1. Changing the size of the hidden layer, did not significantly contribute to the increase in accuracy, as the small increase in accuracy compared to the huge jump in nsize of the model is not worth it. \n",
        "2. Activation Function: We have tried ReLu, LeakyReLu, Sigmoid and Hyperbolic Tangent, except Sigmoid all other activations gave almost similar accuracy at or around 92%. \n",
        "3. We infered that probably due the squashing issue with Sigmoid, could have contributed to the lower accuracy."
      ]
    }
  ]
}