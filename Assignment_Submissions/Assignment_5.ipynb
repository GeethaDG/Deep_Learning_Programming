{
  "nbformat": 4,
  "nbformat_minor": 0,
  "metadata": {
    "colab": {
      "name": "Assignment5_V3.ipynb",
      "provenance": [],
      "collapsed_sections": []
    },
    "kernelspec": {
      "display_name": "Python 3",
      "language": "python",
      "name": "python3"
    },
    "language_info": {
      "codemirror_mode": {
        "name": "ipython",
        "version": 3
      },
      "file_extension": ".py",
      "mimetype": "text/x-python",
      "name": "python",
      "nbconvert_exporter": "python",
      "pygments_lexer": "ipython3",
      "version": "3.8.5"
    }
  },
  "cells": [
    {
      "cell_type": "markdown",
      "metadata": {
        "id": "9jzjPP7GMyR0"
      },
      "source": [
        "# **Assignment 5: Text Classification with RNNs (Part 1)**\n",
        "By Joy Rakshit(231681), Geetha Doddapaneni Gopinath (229498), Sri Chandana Hudukula Ram Kumar (231616)\n",
        "\n"
      ]
    },
    {
      "cell_type": "code",
      "metadata": {
        "colab": {
          "base_uri": "https://localhost:8080/"
        },
        "id": "z8k5NN6onhVX",
        "outputId": "a7642aec-2b19-4e5d-ae33-60d28406d63f"
      },
      "source": [
        "from google.colab import drive; drive.mount('/content/drive')\n",
        "import os\n",
        "\n",
        "os.chdir(\"/content/drive/My Drive/Colab Notebooks/IDL/Assignment5\")"
      ],
      "execution_count": null,
      "outputs": [
        {
          "name": "stdout",
          "output_type": "stream",
          "text": [
            "Drive already mounted at /content/drive; to attempt to forcibly remount, call drive.mount(\"/content/drive\", force_remount=True).\n"
          ]
        }
      ]
    },
    {
      "cell_type": "code",
      "metadata": {
        "id": "F4B_eC6fUhUf"
      },
      "source": [
        "import tensorflow as tf\n",
        "import numpy as np\n",
        "from matplotlib import pyplot as plt"
      ],
      "execution_count": null,
      "outputs": []
    },
    {
      "cell_type": "code",
      "metadata": {
        "id": "ohAxFS77n4eP"
      },
      "source": [
        "logdir = os.path.join(\"logs\")\n",
        "train_writer = tf.summary.create_file_writer(os.path.join(logdir, \"train\"))"
      ],
      "execution_count": null,
      "outputs": []
    },
    {
      "cell_type": "code",
      "metadata": {
        "id": "wgLweSGrVHU8"
      },
      "source": [
        "num_words = 20000\n",
        "(train_sequences, train_labels), (test_sequences, test_labels) = tf.keras.datasets.imdb.load_data(num_words=num_words)"
      ],
      "execution_count": null,
      "outputs": []
    },
    {
      "cell_type": "code",
      "metadata": {
        "id": "LopPWAghZCOK"
      },
      "source": [
        "word_to_index = tf.keras.datasets.imdb.get_word_index()\n",
        "index_to_word = dict((index, word) for (word, index) in word_to_index.items())"
      ],
      "execution_count": null,
      "outputs": []
    },
    {
      "cell_type": "code",
      "metadata": {
        "colab": {
          "base_uri": "https://localhost:8080/",
          "height": 53
        },
        "id": "4C4Yf_3GVSy2",
        "outputId": "bdf5f55e-8ca1-4b96-c67d-2fb169d877e5"
      },
      "source": [
        "test_sequences[0]\n",
        "index_to_word[1035]\n",
        "\n",
        "\" \".join([index_to_word[index ] for index in test_sequences[0][1:]])"
      ],
      "execution_count": null,
      "outputs": [
        {
          "data": {
            "application/vnd.google.colaboratory.intrinsic+json": {
              "type": "string"
            },
            "text/plain": [
              "\"wonder own as by is sequence i i jars roses to of hollywood br of down shouting getting boring of ever it sadly sadly sadly i i was then does don't close faint after one carry as by are be favourites all family turn in does as three part in another some to be probably with world uncaring her an have faint beginning own as is sequence\""
            ]
          },
          "execution_count": 89,
          "metadata": {},
          "output_type": "execute_result"
        }
      ]
    },
    {
      "cell_type": "code",
      "metadata": {
        "colab": {
          "base_uri": "https://localhost:8080/",
          "height": 264
        },
        "id": "aUg8qX9JVQZd",
        "outputId": "74cb7fa8-852a-4ed6-d379-4e3980fbb4ca"
      },
      "source": [
        "sequence_lengths = [len(sequence) for sequence in train_sequences]\n",
        "max_len = 200\n",
        "max_len\n",
        "plt.hist(sequence_lengths, bins=80)\n",
        "plt.show()"
      ],
      "execution_count": null,
      "outputs": [
        {
          "data": {
            "image/png": "[encoded data removed]",
            "text/plain": [
              "<Figure size 432x288 with 1 Axes>"
            ]
          },
          "metadata": {},
          "output_type": "display_data"
        }
      ]
    },
    {
      "cell_type": "code",
      "metadata": {
        "colab": {
          "base_uri": "https://localhost:8080/",
          "height": 316
        },
        "id": "_odsI5k6ZT6D",
        "outputId": "741b10be-c5b6-434d-93e9-6d2231b7a156"
      },
      "source": [
        "sequence_lengths = [len(sequence) for sequence in train_sequences]\n",
        "unique,counts = np.unique(sequence_lengths, return_counts=True)\n",
        "data = dict(zip(unique,counts))\n",
        "plt.bar(range(len(data)), counts,align='edge')\n",
        "plt.xticks(rotation='vertical')"
      ],
      "execution_count": null,
      "outputs": [
        {
          "data": {
            "text/plain": [
              "(array([-200.,    0.,  200.,  400.,  600.,  800., 1000., 1200.]),\n",
              " <a list of 8 Text major ticklabel objects>)"
            ]
          },
          "execution_count": 9,
          "metadata": {},
          "output_type": "execute_result"
        },
        {
          "data": {
            "image/png": "[encoded data removed]",
            "text/plain": [
              "<Figure size 432x288 with 1 Axes>"
            ]
          },
          "metadata": {
            "needs_background": "light"
          },
          "output_type": "display_data"
        }
      ]
    },
    {
      "cell_type": "code",
      "metadata": {
        "colab": {
          "base_uri": "https://localhost:8080/",
          "height": 316
        },
        "id": "U6K_VYpksz_y",
        "outputId": "36875d72-e555-4b19-bd09-41952747cf31"
      },
      "source": [
        "sequence_lengths = [len(sequence) for sequence in test_sequences]\n",
        "unique,counts = np.unique(sequence_lengths, return_counts=True)\n",
        "data = dict(zip(unique,counts))\n",
        "plt.bar(range(len(data)), counts,align='edge')\n",
        "plt.xticks(rotation='vertical')"
      ],
      "execution_count": null,
      "outputs": [
        {
          "data": {
            "text/plain": [
              "(array([-200.,    0.,  200.,  400.,  600.,  800., 1000., 1200.]),\n",
              " <a list of 8 Text major ticklabel objects>)"
            ]
          },
          "execution_count": 10,
          "metadata": {},
          "output_type": "execute_result"
        },
        {
          "data": {
            "image/png": "[encoded data removed]",
            "text/plain": [
              "<Figure size 432x288 with 1 Axes>"
            ]
          },
          "metadata": {
            "needs_background": "light"
          },
          "output_type": "display_data"
        }
      ]
    },
    {
      "cell_type": "code",
      "metadata": {
        "id": "iArlNrPwVQYN"
      },
      "source": [
        "maxlen = 200\n",
        "\n",
        "train_sequences_padded = tf.keras.preprocessing.sequence.pad_sequences(train_sequences, padding='post', maxlen=maxlen)\n",
        "train_data = tf.data.Dataset.from_tensor_slices((train_sequences_padded, train_labels))\n",
        "\n",
        "test_sequences_padded = tf.keras.preprocessing.sequence.pad_sequences(test_sequences, padding='post', maxlen=maxlen)\n",
        "test_data = tf.data.Dataset.from_tensor_slices((test_sequences_padded, test_labels))"
      ],
      "execution_count": null,
      "outputs": []
    },
    {
      "cell_type": "code",
      "metadata": {
        "colab": {
          "base_uri": "https://localhost:8080/"
        },
        "id": "e5Yt8MnoVQWz",
        "outputId": "f5d5dd06-4bdb-43df-b55b-9e7ab7c313a6"
      },
      "source": [
        "train_sequences_padded.shape\n"
      ],
      "execution_count": null,
      "outputs": [
        {
          "data": {
            "text/plain": [
              "(25000, 200)"
            ]
          },
          "execution_count": 25,
          "metadata": {},
          "output_type": "execute_result"
        }
      ]
    },
    {
      "cell_type": "code",
      "metadata": {
        "id": "8o9gjo_LVQU-"
      },
      "source": [
        "def train_loop():\n",
        "    step = 1\n",
        "    sum_loss = 0\n",
        "    acc = 0\n",
        "\n",
        "    for sequence_batch, label_batch in train_data:\n",
        "        logits,loss = train_step(sequence_batch, label_batch, step)\n",
        "\n",
        "        preds = tf.argmax(logits, axis=1, output_type=tf.int64)\n",
        "        acc += tf.reduce_mean(tf.cast(tf.equal(preds, tf.reshape(label_batch,[-1])),\n",
        "                             tf.float32))\n",
        "        sum_loss = sum_loss + loss\n",
        "        if not step % 2500:\n",
        "          print(\"Av_Loss: {} Av_Accuracy: {}\".format(sum_loss/step, acc/step))\n",
        "\n",
        "        step += 1\n"
      ],
      "execution_count": null,
      "outputs": []
    },
    {
      "cell_type": "code",
      "metadata": {
        "id": "C3rb3IJP6PEu"
      },
      "source": [
        "# a single training step\n",
        "def train_step(sequences, labels, step):\n",
        "    with tf.GradientTape() as tape:\n",
        "        logits = rnn_loop(sequences)  \n",
        "        loss = loss_fn(tf.reshape(labels,[-1]), logits)\n",
        "\n",
        "    gradient = tape.gradient(loss, [u,w,b,v,c,start_var])\n",
        "    u.assign_sub(learning_rate * gradient[0])\n",
        "    w.assign_sub(learning_rate * gradient[1])\n",
        "    b.assign_sub(learning_rate * gradient[2])\n",
        "    v.assign_sub(learning_rate * gradient[3])\n",
        "    c.assign_sub(learning_rate * gradient[4])\n",
        "    start_var.assign_sub(learning_rate * gradient[5])\n",
        "\n",
        "    with train_writer.as_default():\n",
        "          tf.summary.scalar(\"loss\", loss, step=step)\n",
        "          tf.summary.histogram(\"logits\", logits, step=step)\n",
        "          tf.summary.histogram(\"weights_u\", u, step=step)\n",
        "          tf.summary.histogram(\"weights_w\", w, step=step)\n",
        "          tf.summary.histogram(\"weights_v\", v, step=step)\n",
        "          tf.summary.histogram(\"weights_start_var\", start_var, step=step)\n",
        "    return logits, loss\n"
      ],
      "execution_count": null,
      "outputs": []
    },
    {
      "cell_type": "code",
      "metadata": {
        "id": "u7bKrH2X02wD"
      },
      "source": [
        "def rnn_loop(sequences):\n",
        "    old_state = start_var # initial state started with zero tensors\n",
        "    for step in range(max_len):\n",
        "\n",
        "        x_t = sequences[step]\n",
        "        x_t = tf.one_hot(x_t, depth=num_words) #\n",
        "        #tf.print(x_t)\n",
        "        new_state = rnn_step(old_state, x_t)\n",
        "\n",
        "        old_state = new_state\n",
        "\n",
        "    o_t = output_layer(new_state)\n",
        "\n",
        "    return o_t"
      ],
      "execution_count": null,
      "outputs": []
    },
    {
      "cell_type": "code",
      "metadata": {
        "id": "SNGUSgbl7eJi"
      },
      "source": [
        "#Formula implementation from pg.370 pg.371\n",
        "def rnn_step(state, x_t):\n",
        "    a_t = b + tf.matmul(state,w) + tf.matmul(tf.reshape(x_t,[-1,num_words]),u)\n",
        "    h_t = tf.tanh(a_t)\n",
        "\n",
        "    return h_t"
      ],
      "execution_count": null,
      "outputs": []
    },
    {
      "cell_type": "code",
      "metadata": {
        "id": "OHqwCeqwVqUu"
      },
      "source": [
        "def output_layer(new_state):\n",
        "  o_t = c + tf.matmul(new_state,v)\n",
        "\n",
        "  return o_t"
      ],
      "execution_count": null,
      "outputs": []
    },
    {
      "cell_type": "code",
      "metadata": {
        "id": "wovTlJmZr5Yq"
      },
      "source": [
        "def loss_fn(labels, logits):\n",
        "  loss = tf.reduce_mean(tf.nn.sparse_softmax_cross_entropy_with_logits(\n",
        "            logits=logits, labels=labels))\n",
        "  \n",
        "  return loss"
      ],
      "execution_count": null,
      "outputs": []
    },
    {
      "cell_type": "markdown",
      "metadata": {
        "id": "aS4i2dntKUpW"
      },
      "source": [
        "# **Experiment 1 :**\n",
        "- Softmax\n",
        "- One Hidden Layer \n",
        "- Learning Rate = 0.1\n",
        "- Maximum Length = 200"
      ]
    },
    {
      "cell_type": "code",
      "metadata": {
        "colab": {
          "background_save": true,
          "base_uri": "https://localhost:8080/"
        },
        "id": "Rk_Zwhej196a",
        "outputId": "2e03050d-2ba1-4cb7-ac1d-e05605edc119"
      },
      "source": [
        "hidd_unit = 1\n",
        "final_unit = 2\n",
        "\n",
        "\n",
        "learning_rate = 0.1\n",
        "\n",
        "u = tf.Variable(tf.random.uniform(shape=[num_words,hidd_unit],minval=-0.1,maxval=0.1,dtype=tf.dtypes.float32))   \n",
        "w = tf.Variable(tf.random.uniform(shape=[hidd_unit,hidd_unit],minval=-0.1,maxval=0.1,dtype=tf.dtypes.float32))\n",
        "b = tf.Variable(tf.random.uniform(shape=[hidd_unit],minval=-0.1,maxval=0.1,dtype=tf.dtypes.float32))\n",
        "v = tf.Variable(tf.random.uniform(shape=[hidd_unit,final_unit],minval=-0.1,maxval=0.1,dtype=tf.dtypes.float32))\n",
        "c = tf.Variable(tf.random.uniform(shape=[final_unit],minval=-0.1,maxval=0.1,dtype=tf.dtypes.float32))\n",
        "\n",
        "start_var = tf.Variable(tf.zeros([hidd_unit,hidd_unit])) # initial state started with zero tensors\n",
        "\n",
        "train_loop()"
      ],
      "execution_count": null,
      "outputs": [
        {
          "name": "stdout",
          "output_type": "stream",
          "text": [
            "Av_Loss: 0.7047434449195862 Av_Accuracy: 0.5023999810218811\n",
            "Av_Loss: 0.7057473063468933 Av_Accuracy: 0.5040000081062317\n",
            "Av_Loss: 0.7070624232292175 Av_Accuracy: 0.4952000081539154\n",
            "Av_Loss: 0.7067931890487671 Av_Accuracy: 0.49889999628067017\n",
            "Av_Loss: 0.7063465714454651 Av_Accuracy: 0.5006399750709534\n",
            "Av_Loss: 0.7063488960266113 Av_Accuracy: 0.49959999322891235\n",
            "Av_Loss: 0.706001877784729 Av_Accuracy: 0.5008000135421753\n",
            "Av_Loss: 0.7059129476547241 Av_Accuracy: 0.5020999908447266\n",
            "Av_Loss: 0.7059192061424255 Av_Accuracy: 0.5019555687904358\n",
            "Av_Loss: 0.705808699131012 Av_Accuracy: 0.5031200051307678\n"
          ]
        }
      ]
    },
    {
      "cell_type": "markdown",
      "metadata": {
        "id": "eXHPtU7AKUpZ"
      },
      "source": [
        "# **Experiment 2 :**\n",
        "- Softmax\n",
        "- One Hidden Layer \n",
        "- Learning Rate = 0.1\n",
        "- Maximum Length = 400\n",
        "- Removing records with lenght greater than 400"
      ]
    },
    {
      "cell_type": "code",
      "metadata": {
        "id": "1KsjJ-4fsW3_"
      },
      "source": [
        "train_sequences_400 = []\n",
        "train_label_400 = []\n",
        "test_sequences_400 = []\n",
        "test_label_400 = []\n",
        "train_discarded = []\n",
        "train_label_discarded = []\n",
        "test_discarded = []\n",
        "test_label_discarded = []\n",
        "for i in range(len(train_sequences)):\n",
        "  if len(train_sequences[i]) <= 400:\n",
        "    train_sequences_400.append(train_sequences[i])\n",
        "    train_label_400.append(train_labels[i])\n",
        "  else:\n",
        "    train_discarded.append(train_sequences[i])\n",
        "    train_label_discarded.append(train_labels[i])\n",
        "\n",
        "for i in range(len(test_sequences)):\n",
        "  if len(test_sequences[i]) <= 400:\n",
        "    test_sequences_400.append(test_sequences[i])\n",
        "    test_label_400.append(test_labels[i])\n",
        "  else:\n",
        "    test_discarded.append(test_sequences[i])\n",
        "    test_label_discarded.append(test_labels[i])\n",
        "\n",
        "train_label_400 = np.asarray(train_label_400,dtype=np.int64)\n",
        "test_label_400 = np.asarray(test_label_400,dtype=np.int64)"
      ],
      "execution_count": null,
      "outputs": []
    },
    {
      "cell_type": "code",
      "metadata": {
        "colab": {
          "base_uri": "https://localhost:8080/"
        },
        "id": "k1HodhH1uNXC",
        "outputId": "7d100608-681b-461a-943e-9c0ea2963e24"
      },
      "source": [
        "#Class Imbalance Check\n",
        "unique_tr, counts_tr = np.unique(train_labels, return_counts=True)\n",
        "print('Number for records per class in train data before discarding: \\n class 0 :  {} \\n class 1 : {}'.format(counts_tr[0],counts_tr[1]))\n",
        "unique_4tr, counts_4tr = np.unique(train_label_400, return_counts=True)\n",
        "print('Number for records per class in train data after discarding: \\n class 0 :  {} \\n class 1 : {}'.format(counts_4tr[0],counts_4tr[1]))\n",
        "\n",
        "unique_tt, counts_tt = np.unique(test_labels, return_counts=True)\n",
        "print('Number for records per class in test data before discarding: \\n class 0 :  {} \\n class 1 : {}'.format(counts_tt[0],counts_tt[1]))\n",
        "unique_4tt, counts_4tt = np.unique(test_label_400, return_counts=True)\n",
        "print('Number for records per class in test data after discarding: \\n class 0 :  {} \\n class 1 : {}'.format(counts_4tt[0],counts_4tt[1]))"
      ],
      "execution_count": null,
      "outputs": [
        {
          "name": "stdout",
          "output_type": "stream",
          "text": [
            "Number for records per class in train data before discarding: \n",
            " class 0 :  12500 \n",
            " class 1 : 12500\n",
            "Number for records per class in train data after discarding: \n",
            " class 0 :  10864 \n",
            " class 1 : 10652\n",
            "Number for records per class in test data before discarding: \n",
            " class 0 :  12500 \n",
            " class 1 : 12500\n",
            "Number for records per class in test data after discarding: \n",
            " class 0 :  10957 \n",
            " class 1 : 10859\n"
          ]
        }
      ]
    },
    {
      "cell_type": "code",
      "metadata": {
        "id": "IiQlyXdRqmNK"
      },
      "source": [
        "maxlen = 400\n",
        "\n",
        "train_sequences_padded = tf.keras.preprocessing.sequence.pad_sequences(train_sequences_400, padding='post', maxlen=maxlen)\n",
        "train_data = tf.data.Dataset.from_tensor_slices((train_sequences_padded, train_label_400))\n",
        "\n",
        "test_sequences_padded = tf.keras.preprocessing.sequence.pad_sequences(test_sequences_400, padding='post', maxlen=maxlen)\n",
        "test_data = tf.data.Dataset.from_tensor_slices((test_sequences_padded, test_label_400))\n"
      ],
      "execution_count": null,
      "outputs": []
    },
    {
      "cell_type": "code",
      "metadata": {
        "colab": {
          "base_uri": "https://localhost:8080/"
        },
        "id": "UHYiGmsXKUpc",
        "outputId": "51676657-e6b0-4b24-c2b1-597f26ba626c"
      },
      "source": [
        "hidd_unit = 1\n",
        "final_unit = 2\n",
        "\n",
        "\n",
        "learning_rate = 0.1\n",
        "\n",
        "u = tf.Variable(tf.random.uniform(shape=[num_words,hidd_unit],minval=-0.1,maxval=0.1,dtype=tf.dtypes.float32))   \n",
        "w = tf.Variable(tf.random.uniform(shape=[hidd_unit,hidd_unit],minval=-0.1,maxval=0.1,dtype=tf.dtypes.float32))\n",
        "b = tf.Variable(tf.random.uniform(shape=[hidd_unit],minval=-0.1,maxval=0.1,dtype=tf.dtypes.float32))\n",
        "v = tf.Variable(tf.random.uniform(shape=[hidd_unit,final_unit],minval=-0.1,maxval=0.1,dtype=tf.dtypes.float32))\n",
        "c = tf.Variable(tf.random.uniform(shape=[final_unit],minval=-0.1,maxval=0.1,dtype=tf.dtypes.float32))\n",
        "\n",
        "start_var = tf.Variable(tf.zeros([hidd_unit,hidd_unit])) # initial state started with zero tensors\n",
        "\n",
        "\n",
        "train_loop()\n",
        "\n"
      ],
      "execution_count": null,
      "outputs": [
        {
          "name": "stdout",
          "output_type": "stream",
          "text": [
            "Av_Loss: 0.7050085663795471 Av_Accuracy: 0.5091999769210815\n",
            "Av_Loss: 0.7074670195579529 Av_Accuracy: 0.49239999055862427\n",
            "Av_Loss: 0.7070003747940063 Av_Accuracy: 0.49693334102630615\n",
            "Av_Loss: 0.7068579196929932 Av_Accuracy: 0.49900001287460327\n",
            "Av_Loss: 0.707098662853241 Av_Accuracy: 0.4960800111293793\n",
            "Av_Loss: 0.7067357897758484 Av_Accuracy: 0.49666666984558105\n",
            "Av_Loss: 0.7064630389213562 Av_Accuracy: 0.49805715680122375\n"
          ]
        }
      ]
    },
    {
      "cell_type": "markdown",
      "metadata": {
        "id": "xyMBR0YTKUpd"
      },
      "source": [
        "# **Experiment 3 :**\n",
        "- Softmax\n",
        "- One Hidden Layer \n",
        "- Learning Rate = 0.5\n",
        "- maximum length = 200\n",
        "- pre padding"
      ]
    },
    {
      "cell_type": "code",
      "metadata": {
        "id": "ilPuwp82KUpd"
      },
      "source": [
        "maxlen = 200\n",
        "\n",
        "train_sequences_padded = tf.keras.preprocessing.sequence.pad_sequences(train_sequences, padding='pre', maxlen=maxlen)\n",
        "train_data = tf.data.Dataset.from_tensor_slices((train_sequences_padded, train_labels))\n",
        "\n",
        "test_sequences_padded = tf.keras.preprocessing.sequence.pad_sequences(test_sequences, padding='pre', maxlen=maxlen)\n",
        "test_data = tf.data.Dataset.from_tensor_slices((test_sequences_padded, test_labels))"
      ],
      "execution_count": null,
      "outputs": []
    },
    {
      "cell_type": "code",
      "metadata": {
        "colab": {
          "base_uri": "https://localhost:8080/"
        },
        "id": "5MDaG5S0KUpd",
        "outputId": "b69363c9-9647-4191-af38-2abb3862dbd3"
      },
      "source": [
        "hidd_unit = 1\n",
        "final_unit = 2\n",
        "\n",
        "\n",
        "learning_rate = 0.5 #trying with larger learning rate\n",
        "\n",
        "u = tf.Variable(tf.random.uniform(shape=[num_words,hidd_unit],minval=-0.1,maxval=0.1,dtype=tf.dtypes.float32)) \n",
        "w = tf.Variable(tf.random.uniform(shape=[hidd_unit,hidd_unit],minval=-0.1,maxval=0.1,dtype=tf.dtypes.float32))\n",
        "b = tf.Variable(tf.random.uniform(shape=[hidd_unit],minval=-0.1,maxval=0.1,dtype=tf.dtypes.float32))##\n",
        "v = tf.Variable(tf.random.uniform(shape=[hidd_unit,final_unit],minval=-0.1,maxval=0.1,dtype=tf.dtypes.float32))\n",
        "c = tf.Variable(tf.random.uniform(shape=[final_unit],minval=-0.1,maxval=0.1,dtype=tf.dtypes.float32))\n",
        "\n",
        "start_var = tf.Variable(tf.zeros([hidd_unit,hidd_unit])) # initial state started with zero tensors\n",
        "\n",
        "\n",
        "train_loop()\n",
        "\n"
      ],
      "execution_count": null,
      "outputs": [
        {
          "name": "stdout",
          "output_type": "stream",
          "text": [
            "Av_Loss: 0.7757892608642578 Av_Accuracy: 0.5004000067710876\n",
            "Av_Loss: 0.8211752772331238 Av_Accuracy: 0.49959999322891235\n",
            "Av_Loss: 0.8444502353668213 Av_Accuracy: 0.48973333835601807\n",
            "Av_Loss: 0.8489469885826111 Av_Accuracy: 0.49300000071525574\n",
            "Av_Loss: 0.8524800539016724 Av_Accuracy: 0.49511998891830444\n",
            "Av_Loss: 0.855155885219574 Av_Accuracy: 0.4962666630744934\n",
            "Av_Loss: 0.8563905954360962 Av_Accuracy: 0.4969714283943176\n",
            "Av_Loss: 0.8581541180610657 Av_Accuracy: 0.49755001068115234\n",
            "Av_Loss: 0.8585373163223267 Av_Accuracy: 0.4980444312095642\n"
          ]
        }
      ]
    },
    {
      "cell_type": "markdown",
      "metadata": {
        "id": "8HctvFslKUpe"
      },
      "source": [
        "# **Experiment 4 :**\n",
        "- Softmax\n",
        "- One Hidden Layer \n",
        "- Learning Rate = 0.1\n",
        "- Variable length dataset using tf.ragged"
      ]
    },
    {
      "cell_type": "code",
      "metadata": {
        "id": "659O7omjKUpe"
      },
      "source": [
        "train_sequences_ragged = tf.ragged.constant(train_sequences)\n",
        "test_sequences_ragged = tf.ragged.constant(test_sequences)\n",
        "\n",
        "#train_sequences_padded = tf.keras.preprocessing.sequence.pad_sequences(train_sequences, padding='post', maxlen=maxlen)\n",
        "train_data = tf.data.Dataset.from_tensor_slices((train_sequences_ragged, train_labels))\n",
        "\n",
        "#test_sequences_padded = tf.keras.preprocessing.sequence.pad_sequences(test_sequences, padding='post', maxlen=maxlen)\n",
        "test_data = tf.data.Dataset.from_tensor_slices((test_sequences_ragged, test_labels))"
      ],
      "execution_count": null,
      "outputs": []
    },
    {
      "cell_type": "code",
      "metadata": {
        "id": "lwzzD2etKUpf",
        "outputId": "bf5161fb-7861-4194-86a7-badf7e9f0c4c"
      },
      "source": [
        "hidd_unit = 1\n",
        "final_unit = 2\n",
        "\n",
        "\n",
        "learning_rate = 0.1\n",
        "\n",
        "u = tf.Variable(tf.random.uniform(shape=[num_words,hidd_unit],minval=-0.1,maxval=0.1,dtype=tf.dtypes.float32))   \n",
        "w = tf.Variable(tf.random.uniform(shape=[hidd_unit,hidd_unit],minval=-0.1,maxval=0.1,dtype=tf.dtypes.float32))\n",
        "b = tf.Variable(tf.random.uniform(shape=[hidd_unit],minval=-0.1,maxval=0.1,dtype=tf.dtypes.float32))\n",
        "v = tf.Variable(tf.random.uniform(shape=[hidd_unit,final_unit],minval=-0.1,maxval=0.1,dtype=tf.dtypes.float32))\n",
        "c = tf.Variable(tf.random.uniform(shape=[final_unit],minval=-0.1,maxval=0.1,dtype=tf.dtypes.float32))\n",
        "\n",
        "start_var = tf.Variable(tf.zeros([hidd_unit,hidd_unit])) # initial state started with zero tensors\n",
        "\n",
        "start_time = time.time()\n",
        "train_loop()\n",
        "end_time = time.time()\n",
        "print(\"Total Time taken: \",end_time-start_time)"
      ],
      "execution_count": null,
      "outputs": [
        {
          "name": "stdout",
          "output_type": "stream",
          "text": [
            "Av_Loss: 0.7047833800315857 Av_Accuracy: 0.5012000203132629\n",
            "Av_Loss: 0.7056570053100586 Av_Accuracy: 0.5019999742507935\n",
            "Av_Loss: 0.7063391208648682 Av_Accuracy: 0.5001333355903625\n",
            "Av_Loss: 0.7052043080329895 Av_Accuracy: 0.5072000026702881\n",
            "Av_Loss: 0.7037671804428101 Av_Accuracy: 0.5119199752807617\n",
            "Av_Loss: 0.702365517616272 Av_Accuracy: 0.5155333280563354\n",
            "Av_Loss: 0.7011614441871643 Av_Accuracy: 0.5216571688652039\n",
            "Av_Loss: 0.7004018425941467 Av_Accuracy: 0.5241000056266785\n",
            "Av_Loss: 0.6996601819992065 Av_Accuracy: 0.526711106300354\n",
            "Av_Loss: 0.7015451788902283 Av_Accuracy: 0.5250800251960754\n",
            "Total Time taken:  5904.213921785355\n"
          ]
        }
      ]
    },
    {
      "cell_type": "markdown",
      "metadata": {
        "id": "2mDoiXnGKUpf"
      },
      "source": [
        "# **Experiment** 5 :\n",
        "- Binary cross entrophy\n",
        "- One Hidden Layer \n",
        "- Learning Rate = 0.1\n",
        "- Variable length dataset using tf.ragged"
      ]
    },
    {
      "cell_type": "code",
      "metadata": {
        "id": "Ww2Kh54UKUpg"
      },
      "source": [
        "def train_loop():\n",
        "    step = 1\n",
        "    sum_loss = 0\n",
        "    acc = 0\n",
        "\n",
        "    for sequence_batch, label_batch in train_data:\n",
        "        logits,loss = train_step(sequence_batch, label_batch, step)\n",
        "\n",
        "        preds = tf.argmax(logits, axis=1, output_type=tf.int64)\n",
        "        acc += tf.reduce_mean(tf.cast(tf.equal(preds, tf.reshape(label_batch,[-1])),\n",
        "                             tf.float32))\n",
        "        sum_loss = sum_loss + loss\n",
        "        if not step % 2500:\n",
        "          print(\"Av_Loss: {} Av_Accuracy: {}\".format(sum_loss/step, acc/step))\n",
        "\n",
        "        step += 1"
      ],
      "execution_count": null,
      "outputs": []
    },
    {
      "cell_type": "code",
      "metadata": {
        "id": "ac76h5nGKUpg"
      },
      "source": [
        "def loss_fn(labels, logits):\n",
        "    binary_cross_entropy = tf.keras.losses.BinaryCrossentropy(from_logits=True)\n",
        "    loss = binary_cross_entropy(labels,logits)\n",
        "    return loss"
      ],
      "execution_count": null,
      "outputs": []
    },
    {
      "cell_type": "code",
      "metadata": {
        "scrolled": true,
        "id": "Cx1RCTGpKUph",
        "outputId": "1eedeb89-6bf8-4aaf-b74c-d85921438adc"
      },
      "source": [
        "u = tf.Variable(tf.random.uniform(shape=[num_words,hidd_unit],minval=-0.1,maxval=0.1,dtype=tf.dtypes.float32))   \n",
        "w = tf.Variable(tf.random.uniform(shape=[hidd_unit,hidd_unit],minval=-0.1,maxval=0.1,dtype=tf.dtypes.float32))\n",
        "b = tf.Variable(tf.random.uniform(shape=[hidd_unit],minval=-0.1,maxval=0.1,dtype=tf.dtypes.float32))\n",
        "v = tf.Variable(tf.random.uniform(shape=[hidd_unit,1],minval=-0.1,maxval=0.1,dtype=tf.dtypes.float32))\n",
        "c = tf.Variable(tf.random.uniform(shape=[1],minval=-0.1,maxval=0.1,dtype=tf.dtypes.float32))\n",
        "\n",
        "start_var = tf.Variable(tf.zeros([hidd_unit,hidd_unit])) # initial state started with zero tensors\n",
        "\n",
        "start_time = time.time()\n",
        "train_loop()\n",
        "end_time = time.time()\n",
        "print(\"Total Time taken: \",end_time-start_time)"
      ],
      "execution_count": null,
      "outputs": [
        {
          "name": "stdout",
          "output_type": "stream",
          "text": [
            "Av_Loss: 0.6979770064353943 Av_Accuracy: 0.487199991941452\n",
            "Av_Loss: 0.6987341046333313 Av_Accuracy: 0.49079999327659607\n",
            "Av_Loss: 0.6989322304725647 Av_Accuracy: 0.49373334646224976\n",
            "Av_Loss: 0.6981040239334106 Av_Accuracy: 0.49470001459121704\n",
            "Av_Loss: 0.6968080401420593 Av_Accuracy: 0.49535998702049255\n",
            "Av_Loss: 0.6953018307685852 Av_Accuracy: 0.49779999256134033\n",
            "Av_Loss: 0.6941268444061279 Av_Accuracy: 0.49714285135269165\n",
            "Av_Loss: 0.6933719515800476 Av_Accuracy: 0.49845001101493835\n",
            "Av_Loss: 0.6922779083251953 Av_Accuracy: 0.49862220883369446\n",
            "Av_Loss: 0.6912077069282532 Av_Accuracy: 0.5\n",
            "Total Time taken:  6043.511757612228\n"
          ]
        }
      ]
    },
    {
      "cell_type": "markdown",
      "metadata": {
        "id": "LIhP_OE-KUph"
      },
      "source": [
        "# Food for thought #1 and Food for thought #6\n",
        "\n",
        "-Why is this wasteful? Can you think of a smarter padding scheme that is more efficient? Consider the fact that RNNs can work on arbitrary sequence lengths, and that training mini batches are pretty much independent of each other.\n",
        "\n",
        "-pad_sequences allows for pre or post padding. Try both to see the difference. Which option do you think is better? Recall that we use the final time step output from our model.\n",
        "\n",
        "\n",
        "\n",
        "> Model : We have implemented a Recurrent Neural Network(RNN) with recurrent connections between hidden units, that reads an entire sequence and then produces a single output.\n",
        "\n",
        "\n",
        "\n",
        "> Data Observation: The length of the input sequences vary from 11 to 2494.\n",
        "\n",
        "\n",
        "\n",
        "\n",
        "> Case 1: If we pad all the sequences to the maximum length which is 2494(post), considering the implementation, the model exhausts most of its gradient on the padded garbage sequences and doesn't give raise to any useful features pertaining to the task.\n",
        "\n",
        "\n",
        "\n",
        "\n",
        "> Case 2: If we pad all the sequences to the maximum length which is 2494(Pre), although we couldn't evidently observe the difference between post and pre padding techniques(thanks to colab for disconnecting us nth time :/), when we logically analysed, we concluded that \"pre\" padding could be more advantageous compared to \"post\" as we are extracting the output from the final layers which is the output(good/garbage) is a result of actual data and the gradient is consumed by layers which have input sequences rather than some random padding value.\n",
        "\n",
        "\n",
        "\n",
        "> Case 3: Truncating and Padding to some fixed sequence length say 200 (which is what we did in this week's experiments), would have similar effect as case 1 and 2, apart from that since we are truncating we could loose some important features which would have helped the model learn better. \n",
        "\n",
        "\n",
        "\n",
        "> Case 4: So we thought how about may be we could  make minibatches, of varying lengths, for all the sequences of lengths 1-100 pad in such a way they are all of the length 100, 101-200 to 200 and so on, we couldn't get this idea working, but may be this could be better than cases 1-3.\n",
        "\n",
        "\n",
        "\n",
        "\n",
        "> Case 5: Another idea we got was how about we don't pad at all and since RNNs can work with varied sequence length, we came across \"tf.ragged\", which helps create datasets of variable lengths, this seems to be the best in terms of performance, at least for our model. \n",
        "\n",
        "\n",
        "\n",
        "\n",
        "\n",
        "\n",
        "\n",
        "\n",
        "\n",
        "\n",
        "\n",
        "\n",
        "\n",
        "\n",
        "\n",
        " \n",
        "\n",
        "\n",
        "\n"
      ]
    },
    {
      "cell_type": "markdown",
      "metadata": {
        "id": "Yj2VP5IbKzIM"
      },
      "source": [
        "# Food for thought 2: \n",
        "Between truncating long sequences and removing them, which option do you think is better? Why? \n",
        "\n",
        "\n",
        "\n",
        "> Truncating is the better option because, in this way we are not loosing the training data. In this case, we are just trying to predict the sentiment behind a review and most of the time the first few words of the review would carry features which would help with better learning. Hence using truncated sentences would serve us better.\n",
        "\n"
      ]
    },
    {
      "cell_type": "markdown",
      "metadata": {
        "id": "bDV0KYkELMcD"
      },
      "source": [
        "# Food for thought #3: \n",
        "\n",
        "Can you think of a way to avoid the one-hot vectors completely? Even if you cannot implement it, a conceptual idea is fine.\n",
        "\n",
        "\n",
        "\n",
        "> Although, one hot encoding is a widely accepted and used way of representing textual data and they are the best when we are dealing with tf-idf or n-grams, they come with a disadvantage of being very sparse. One of the solutions to this is Word2Vec(skip gram/CBOW).\n",
        "\n"
      ]
    },
    {
      "cell_type": "markdown",
      "metadata": {
        "id": "GPT3V8d1LT5u"
      },
      "source": [
        "# Food for thought #4: \n",
        "\n",
        "How can it be that we can choose how many outputs we have, i.e. how can both be correct? Are there differences between both choices as well as (dis)advantages relative to each other?\n",
        "\n",
        "\n",
        "\n",
        "> For an arbitrary number of classes, normally a softmax layer is appended to the model so the outputs would have probabilistic properties by design. Sigmoid is the same as softmax as it could be thought as having two outputs, but one of them has all weights equal to zero and therefore its output will be always equal to zero. Hence, choosing 1 output in contrast to 2 outputs for binary classifiers is better since fewer parameters and computation are needed.\n",
        "\n"
      ]
    },
    {
      "cell_type": "markdown",
      "metadata": {
        "id": "EHh6k5XVLf5Q"
      },
      "source": [
        "# Food for thought #7 : \n",
        "\n",
        "Can you think of a way to prevent the RNN from computing new states on padded time steps? One idea might be to “pass through” the previous state in case the current time step is padding. Note that, within a batch, some sequences might be padded for a given time step while others are not.\n",
        "\n",
        "\n",
        "\n",
        "> Solution 1 : We could maybe use no padding at all, i.e., using tf.ragged.\n",
        "\n",
        "> Solution 2 : (Just a vague idea) Along with storing the data and labels we could also store the length of the sequences and when the RNN reaches the last time step we could stop the hidden layer calculation and send the hidden layer output to output layer (thanks to RNN's flexibility, this is feasible)\n",
        "\n",
        "\n",
        "\n"
      ]
    },
    {
      "cell_type": "markdown",
      "metadata": {
        "id": "WD849HYENPYM"
      },
      "source": [
        "References:\n",
        "\n",
        "\n",
        "\n",
        "1.   Goodfellow, Ian, Yoshua Bengio, and Aaron Courville. Deep learning. MIT press, 2016.\n",
        "2.   https://ovgu-ailab.github.io/idl2021/ass5.html\n",
        "3.   https://towardsdatascience.com/using-tensorflow-ragged-tensors-2af07849a7bd\n",
        "\n",
        "\n"
      ]
    }
  ]
}